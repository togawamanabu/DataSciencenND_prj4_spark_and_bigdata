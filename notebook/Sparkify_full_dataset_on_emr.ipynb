{
 "cells": [
  {
   "cell_type": "markdown",
   "metadata": {},
   "source": [
    "# Sparkify Project Workspace\n",
    "This workspace contains a tiny subset (128MB) of the full dataset available (12GB). Feel free to use this workspace to build your project, or to explore a smaller subset with Spark before deploying your cluster on the cloud. Instructions for setting up your Spark cluster is included in the last lesson of the Extracurricular Spark Course content.\n",
    "\n",
    "You can follow the steps below to guide your data analysis and model building portion of this project."
   ]
  },
  {
   "cell_type": "code",
   "execution_count": null,
   "metadata": {},
   "outputs": [],
   "source": [
    "## emr-5.26.0"
   ]
  },
  {
   "cell_type": "code",
   "execution_count": 1,
   "metadata": {
    "execution": {
     "iopub.execute_input": "2022-01-22T21:46:51.931417Z",
     "iopub.status.busy": "2022-01-22T21:46:51.931150Z",
     "iopub.status.idle": "2022-01-22T21:46:51.977328Z",
     "shell.execute_reply": "2022-01-22T21:46:51.976514Z",
     "shell.execute_reply.started": "2022-01-22T21:46:51.931385Z"
    },
    "tags": []
   },
   "outputs": [
    {
     "data": {
      "text/html": [
       "Current session configs: <tt>{'conf': {'spark.pyspark.python': 'python3', 'spark.pyspark.virtualenv.enabled': 'true', 'spark.pyspark.virtualenv.type': 'native', 'spark.pyspark.virtualenv.bin.path': '/usr/bin/virtualenv', 'driverMemory': '6000M'}, 'kind': 'pyspark'}</tt><br>"
      ],
      "text/plain": [
       "<IPython.core.display.HTML object>"
      ]
     },
     "metadata": {},
     "output_type": "display_data"
    },
    {
     "data": {
      "text/html": [
       "No active sessions."
      ],
      "text/plain": [
       "<IPython.core.display.HTML object>"
      ]
     },
     "metadata": {},
     "output_type": "display_data"
    }
   ],
   "source": [
    "%%configure -f\n",
    "{ \"conf\":{\n",
    "          \"spark.pyspark.python\": \"python3\",\n",
    "          \"spark.pyspark.virtualenv.enabled\": \"true\",\n",
    "          \"spark.pyspark.virtualenv.type\":\"native\",\n",
    "          \"spark.pyspark.virtualenv.bin.path\":\"/usr/bin/virtualenv\",\n",
    "          \"driverMemory\": \"6000M\"\n",
    "         }\n",
    "}"
   ]
  },
  {
   "cell_type": "code",
   "execution_count": 2,
   "metadata": {
    "execution": {
     "iopub.execute_input": "2022-01-22T21:46:54.068814Z",
     "iopub.status.busy": "2022-01-22T21:46:54.068493Z",
     "iopub.status.idle": "2022-01-22T21:47:33.706752Z",
     "shell.execute_reply": "2022-01-22T21:47:33.705743Z",
     "shell.execute_reply.started": "2022-01-22T21:46:54.068779Z"
    },
    "tags": []
   },
   "outputs": [
    {
     "data": {
      "application/vnd.jupyter.widget-view+json": {
       "model_id": "cd3292b0e726444ebb0b8625b63d60f1",
       "version_major": 2,
       "version_minor": 0
      },
      "text/plain": [
       "VBox()"
      ]
     },
     "metadata": {},
     "output_type": "display_data"
    },
    {
     "name": "stdout",
     "output_type": "stream",
     "text": [
      "Starting Spark application\n"
     ]
    },
    {
     "data": {
      "text/html": [
       "<table>\n",
       "<tr><th>ID</th><th>YARN Application ID</th><th>Kind</th><th>State</th><th>Spark UI</th><th>Driver log</th><th>Current session?</th></tr><tr><td>17</td><td>application_1642840270497_0018</td><td>pyspark</td><td>idle</td><td><a target=\"_blank\" href=\"http://ip-172-30-1-175.ap-northeast-1.compute.internal:20888/proxy/application_1642840270497_0018/\">Link</a></td><td><a target=\"_blank\" href=\"http://ip-172-30-1-200.ap-northeast-1.compute.internal:8042/node/containerlogs/container_1642840270497_0018_01_000001/livy\">Link</a></td><td>✔</td></tr></table>"
      ],
      "text/plain": [
       "<IPython.core.display.HTML object>"
      ]
     },
     "metadata": {},
     "output_type": "display_data"
    },
    {
     "data": {
      "application/vnd.jupyter.widget-view+json": {
       "model_id": "",
       "version_major": 2,
       "version_minor": 0
      },
      "text/plain": [
       "FloatProgress(value=0.0, bar_style='info', description='Progress:', layout=Layout(height='25px', width='50%'),…"
      ]
     },
     "metadata": {},
     "output_type": "display_data"
    },
    {
     "name": "stdout",
     "output_type": "stream",
     "text": [
      "SparkSession available as 'spark'.\n"
     ]
    },
    {
     "data": {
      "application/vnd.jupyter.widget-view+json": {
       "model_id": "",
       "version_major": 2,
       "version_minor": 0
      },
      "text/plain": [
       "FloatProgress(value=0.0, bar_style='info', description='Progress:', layout=Layout(height='25px', width='50%'),…"
      ]
     },
     "metadata": {},
     "output_type": "display_data"
    }
   ],
   "source": [
    "# %%configure -f \n",
    "# {\"driverMemory\": \"6000M\"}"
   ]
  },
  {
   "cell_type": "code",
   "execution_count": 3,
   "metadata": {
    "execution": {
     "iopub.execute_input": "2022-01-22T21:47:33.732586Z",
     "iopub.status.busy": "2022-01-22T21:47:33.732244Z",
     "iopub.status.idle": "2022-01-22T21:47:34.047362Z",
     "shell.execute_reply": "2022-01-22T21:47:34.046587Z",
     "shell.execute_reply.started": "2022-01-22T21:47:33.732552Z"
    },
    "tags": []
   },
   "outputs": [
    {
     "data": {
      "application/vnd.jupyter.widget-view+json": {
       "model_id": "b0fa79f3757f41c480b1e023f72c3403",
       "version_major": 2,
       "version_minor": 0
      },
      "text/plain": [
       "VBox()"
      ]
     },
     "metadata": {},
     "output_type": "display_data"
    },
    {
     "data": {
      "application/vnd.jupyter.widget-view+json": {
       "model_id": "",
       "version_major": 2,
       "version_minor": 0
      },
      "text/plain": [
       "FloatProgress(value=0.0, bar_style='info', description='Progress:', layout=Layout(height='25px', width='50%'),…"
      ]
     },
     "metadata": {},
     "output_type": "display_data"
    }
   ],
   "source": [
    "# %%configure -f \n",
    "# {\"livy.server.session.timeout\": \"2h\"}"
   ]
  },
  {
   "cell_type": "code",
   "execution_count": null,
   "metadata": {},
   "outputs": [],
   "source": []
  },
  {
   "cell_type": "code",
   "execution_count": 4,
   "metadata": {
    "execution": {
     "iopub.execute_input": "2022-01-22T21:47:34.054032Z",
     "iopub.status.busy": "2022-01-22T21:47:34.053753Z",
     "iopub.status.idle": "2022-01-22T21:48:18.457992Z",
     "shell.execute_reply": "2022-01-22T21:48:18.457193Z",
     "shell.execute_reply.started": "2022-01-22T21:47:34.053993Z"
    },
    "tags": []
   },
   "outputs": [
    {
     "data": {
      "application/vnd.jupyter.widget-view+json": {
       "model_id": "2b6a2d2fe0834bcb95d36185dc1f647b",
       "version_major": 2,
       "version_minor": 0
      },
      "text/plain": [
       "VBox()"
      ]
     },
     "metadata": {},
     "output_type": "display_data"
    },
    {
     "data": {
      "application/vnd.jupyter.widget-view+json": {
       "model_id": "",
       "version_major": 2,
       "version_minor": 0
      },
      "text/plain": [
       "FloatProgress(value=0.0, bar_style='info', description='Progress:', layout=Layout(height='25px', width='50%'),…"
      ]
     },
     "metadata": {},
     "output_type": "display_data"
    },
    {
     "name": "stdout",
     "output_type": "stream",
     "text": [
      "Collecting pandas==0.25.1\n",
      "  Using cached pandas-0.25.1-cp36-cp36m-manylinux1_x86_64.whl (10.5 MB)\n",
      "Collecting python-dateutil>=2.6.1\n",
      "  Using cached python_dateutil-2.8.2-py2.py3-none-any.whl (247 kB)\n",
      "Requirement already satisfied: pytz>=2017.2 in /usr/local/lib/python3.6/site-packages (from pandas==0.25.1) (2019.1)\n",
      "Requirement already satisfied: numpy>=1.13.3 in /usr/local/lib64/python3.6/site-packages (from pandas==0.25.1) (1.14.5)\n",
      "Requirement already satisfied: six>=1.5 in /usr/local/lib/python3.6/site-packages (from python-dateutil>=2.6.1->pandas==0.25.1) (1.12.0)\n",
      "Installing collected packages: python-dateutil, pandas\n",
      "Successfully installed pandas-0.25.1 python-dateutil-2.8.2\n",
      "\n",
      "Collecting matplotlib==3.1.0\n",
      "  Using cached matplotlib-3.1.0-cp36-cp36m-manylinux1_x86_64.whl (13.1 MB)\n",
      "Collecting cycler>=0.10\n",
      "  Using cached cycler-0.11.0-py3-none-any.whl (6.4 kB)\n",
      "Requirement already satisfied: python-dateutil>=2.1 in /mnt/tmp/1642888046164-0/lib/python3.6/site-packages (from matplotlib==3.1.0) (2.8.2)\n",
      "Collecting kiwisolver>=1.0.1\n",
      "  Using cached kiwisolver-1.3.1-cp36-cp36m-manylinux1_x86_64.whl (1.1 MB)\n",
      "Requirement already satisfied: numpy>=1.11 in /usr/local/lib64/python3.6/site-packages (from matplotlib==3.1.0) (1.14.5)\n",
      "Collecting pyparsing!=2.0.4,!=2.1.2,!=2.1.6,>=2.0.1\n",
      "  Using cached pyparsing-3.0.7-py3-none-any.whl (98 kB)\n",
      "Requirement already satisfied: six>=1.5 in /usr/local/lib/python3.6/site-packages (from python-dateutil>=2.1->matplotlib==3.1.0) (1.12.0)\n",
      "Installing collected packages: pyparsing, kiwisolver, cycler, matplotlib\n",
      "Successfully installed cycler-0.11.0 kiwisolver-1.3.1 matplotlib-3.1.0 pyparsing-3.0.7\n",
      "\n",
      "Collecting seaborn==0.8.1\n",
      "  Using cached seaborn-0.8.1-py3-none-any.whl\n",
      "Collecting scipy\n",
      "  Using cached scipy-1.5.4-cp36-cp36m-manylinux1_x86_64.whl (25.9 MB)\n",
      "Requirement already satisfied: numpy>=1.14.5 in /usr/local/lib64/python3.6/site-packages (from scipy->seaborn==0.8.1) (1.14.5)\n",
      "Installing collected packages: scipy, seaborn\n",
      "Successfully installed scipy-1.5.4 seaborn-0.8.1"
     ]
    }
   ],
   "source": [
    "sc.install_pypi_package(\"pandas==0.25.1\") \n",
    "sc.install_pypi_package(\"matplotlib==3.1.0\", \"https://pypi.org/simple\")\n",
    "sc.install_pypi_package(\"seaborn==0.8.1\")"
   ]
  },
  {
   "cell_type": "code",
   "execution_count": 5,
   "metadata": {
    "execution": {
     "iopub.execute_input": "2022-01-22T21:48:18.464715Z",
     "iopub.status.busy": "2022-01-22T21:48:18.463946Z",
     "iopub.status.idle": "2022-01-22T21:48:19.528296Z",
     "shell.execute_reply": "2022-01-22T21:48:19.527405Z",
     "shell.execute_reply.started": "2022-01-22T21:48:18.464668Z"
    },
    "tags": []
   },
   "outputs": [
    {
     "data": {
      "application/vnd.jupyter.widget-view+json": {
       "model_id": "1b0b7a023946408e8f62ee0d12200579",
       "version_major": 2,
       "version_minor": 0
      },
      "text/plain": [
       "VBox()"
      ]
     },
     "metadata": {},
     "output_type": "display_data"
    },
    {
     "data": {
      "application/vnd.jupyter.widget-view+json": {
       "model_id": "",
       "version_major": 2,
       "version_minor": 0
      },
      "text/plain": [
       "FloatProgress(value=0.0, bar_style='info', description='Progress:', layout=Layout(height='25px', width='50%'),…"
      ]
     },
     "metadata": {},
     "output_type": "display_data"
    },
    {
     "name": "stdout",
     "output_type": "stream",
     "text": [
      "'3.1.0'"
     ]
    }
   ],
   "source": [
    "import matplotlib\n",
    "matplotlib.__version__"
   ]
  },
  {
   "cell_type": "code",
   "execution_count": 6,
   "metadata": {
    "execution": {
     "iopub.execute_input": "2022-01-22T21:48:19.529979Z",
     "iopub.status.busy": "2022-01-22T21:48:19.529569Z",
     "iopub.status.idle": "2022-01-22T21:48:22.138374Z",
     "shell.execute_reply": "2022-01-22T21:48:22.137587Z",
     "shell.execute_reply.started": "2022-01-22T21:48:19.529939Z"
    },
    "tags": []
   },
   "outputs": [
    {
     "data": {
      "application/vnd.jupyter.widget-view+json": {
       "model_id": "bd88f3f07f4e474f9c3bfc1d4a886a0c",
       "version_major": 2,
       "version_minor": 0
      },
      "text/plain": [
       "VBox()"
      ]
     },
     "metadata": {},
     "output_type": "display_data"
    },
    {
     "data": {
      "application/vnd.jupyter.widget-view+json": {
       "model_id": "",
       "version_major": 2,
       "version_minor": 0
      },
      "text/plain": [
       "FloatProgress(value=0.0, bar_style='info', description='Progress:', layout=Layout(height='25px', width='50%'),…"
      ]
     },
     "metadata": {},
     "output_type": "display_data"
    }
   ],
   "source": [
    "# import libraries\n",
    "import pandas as pd\n",
    "import numpy as np\n",
    "import json\n",
    "import matplotlib.pyplot as plt\n",
    "import seaborn as sns\n",
    "import datetime\n",
    "\n",
    "import pyspark\n",
    "from pyspark import SparkConf\n",
    "from pyspark.sql import SparkSession\n",
    "from pyspark.sql.functions import udf\n",
    "from pyspark.sql.types import StringType, DateType\n",
    "from pyspark.sql.types import IntegerType\n",
    "from pyspark.sql.functions import desc\n",
    "from pyspark.sql.functions import asc\n",
    "from pyspark.sql.functions import sum as Fsum,  min as Fmin, max as Fmax\n",
    "from pyspark.sql import functions as F\n",
    "from pyspark.sql import Window\n",
    "from pyspark.sql.functions import from_unixtime\n",
    "from pyspark.ml.feature import StringIndexer\n",
    "\n",
    "pd.options.display.max_columns = 0"
   ]
  },
  {
   "cell_type": "code",
   "execution_count": 7,
   "metadata": {
    "execution": {
     "iopub.execute_input": "2022-01-22T21:48:22.142744Z",
     "iopub.status.busy": "2022-01-22T21:48:22.141681Z",
     "iopub.status.idle": "2022-01-22T21:48:23.468676Z",
     "shell.execute_reply": "2022-01-22T21:48:23.467976Z",
     "shell.execute_reply.started": "2022-01-22T21:48:22.142692Z"
    },
    "tags": []
   },
   "outputs": [],
   "source": [
    "%%local\n",
    "%matplotlib inline"
   ]
  },
  {
   "cell_type": "code",
   "execution_count": 8,
   "metadata": {
    "execution": {
     "iopub.execute_input": "2022-01-22T21:48:23.470717Z",
     "iopub.status.busy": "2022-01-22T21:48:23.470530Z",
     "iopub.status.idle": "2022-01-22T21:48:24.577739Z",
     "shell.execute_reply": "2022-01-22T21:48:24.576734Z",
     "shell.execute_reply.started": "2022-01-22T21:48:23.470692Z"
    },
    "tags": []
   },
   "outputs": [
    {
     "data": {
      "application/vnd.jupyter.widget-view+json": {
       "model_id": "47c937f11a0a4769978a0d268b3304bd",
       "version_major": 2,
       "version_minor": 0
      },
      "text/plain": [
       "VBox()"
      ]
     },
     "metadata": {},
     "output_type": "display_data"
    },
    {
     "data": {
      "application/vnd.jupyter.widget-view+json": {
       "model_id": "",
       "version_major": 2,
       "version_minor": 0
      },
      "text/plain": [
       "FloatProgress(value=0.0, bar_style='info', description='Progress:', layout=Layout(height='25px', width='50%'),…"
      ]
     },
     "metadata": {},
     "output_type": "display_data"
    }
   ],
   "source": [
    "# create a Spark session\n",
    "spark = SparkSession.builder.appName(\"Sparkify\").getOrCreate()"
   ]
  },
  {
   "cell_type": "code",
   "execution_count": 9,
   "metadata": {
    "execution": {
     "iopub.execute_input": "2022-01-22T21:48:24.581748Z",
     "iopub.status.busy": "2022-01-22T21:48:24.581378Z",
     "iopub.status.idle": "2022-01-22T21:48:24.869900Z",
     "shell.execute_reply": "2022-01-22T21:48:24.868930Z",
     "shell.execute_reply.started": "2022-01-22T21:48:24.581703Z"
    },
    "tags": []
   },
   "outputs": [
    {
     "data": {
      "application/vnd.jupyter.widget-view+json": {
       "model_id": "7f67f2563ed649f4986f8178b10ffc90",
       "version_major": 2,
       "version_minor": 0
      },
      "text/plain": [
       "VBox()"
      ]
     },
     "metadata": {},
     "output_type": "display_data"
    },
    {
     "data": {
      "application/vnd.jupyter.widget-view+json": {
       "model_id": "",
       "version_major": 2,
       "version_minor": 0
      },
      "text/plain": [
       "FloatProgress(value=0.0, bar_style='info', description='Progress:', layout=Layout(height='25px', width='50%'),…"
      ]
     },
     "metadata": {},
     "output_type": "display_data"
    },
    {
     "name": "stdout",
     "output_type": "stream",
     "text": [
      "<pyspark.sql.session.SparkSession object at 0x7f1142285ef0>"
     ]
    }
   ],
   "source": [
    "# get information\n",
    "spark"
   ]
  },
  {
   "cell_type": "markdown",
   "metadata": {},
   "source": [
    "# Load and Clean Dataset\n",
    "In this workspace, the mini-dataset file is `mini_sparkify_event_data.json`. Load and clean the dataset, checking for invalid or missing data - for example, records without userids or sessionids. "
   ]
  },
  {
   "cell_type": "code",
   "execution_count": 10,
   "metadata": {
    "execution": {
     "iopub.execute_input": "2022-01-22T21:48:24.872340Z",
     "iopub.status.busy": "2022-01-22T21:48:24.872128Z",
     "iopub.status.idle": "2022-01-22T21:48:25.249461Z",
     "shell.execute_reply": "2022-01-22T21:48:25.248361Z",
     "shell.execute_reply.started": "2022-01-22T21:48:24.872314Z"
    },
    "tags": []
   },
   "outputs": [
    {
     "data": {
      "application/vnd.jupyter.widget-view+json": {
       "model_id": "6fabac8732fb4cd9a74302b17fd6c066",
       "version_major": 2,
       "version_minor": 0
      },
      "text/plain": [
       "VBox()"
      ]
     },
     "metadata": {},
     "output_type": "display_data"
    },
    {
     "data": {
      "application/vnd.jupyter.widget-view+json": {
       "model_id": "",
       "version_major": 2,
       "version_minor": 0
      },
      "text/plain": [
       "FloatProgress(value=0.0, bar_style='info', description='Progress:', layout=Layout(height='25px', width='50%'),…"
      ]
     },
     "metadata": {},
     "output_type": "display_data"
    }
   ],
   "source": [
    "# load dataset\n",
    "#df = spark.read.json('mini_sparkify_event_data.json')"
   ]
  },
  {
   "cell_type": "code",
   "execution_count": 11,
   "metadata": {
    "execution": {
     "iopub.execute_input": "2022-01-22T21:48:25.251372Z",
     "iopub.status.busy": "2022-01-22T21:48:25.251117Z",
     "iopub.status.idle": "2022-01-22T21:50:26.508995Z",
     "shell.execute_reply": "2022-01-22T21:50:26.508189Z",
     "shell.execute_reply.started": "2022-01-22T21:48:25.251335Z"
    },
    "tags": []
   },
   "outputs": [
    {
     "data": {
      "application/vnd.jupyter.widget-view+json": {
       "model_id": "3af955d979cc4331b643004172314304",
       "version_major": 2,
       "version_minor": 0
      },
      "text/plain": [
       "VBox()"
      ]
     },
     "metadata": {},
     "output_type": "display_data"
    },
    {
     "data": {
      "application/vnd.jupyter.widget-view+json": {
       "model_id": "",
       "version_major": 2,
       "version_minor": 0
      },
      "text/plain": [
       "FloatProgress(value=0.0, bar_style='info', description='Progress:', layout=Layout(height='25px', width='50%'),…"
      ]
     },
     "metadata": {},
     "output_type": "display_data"
    }
   ],
   "source": [
    "# load full dataset \n",
    "\n",
    "df = spark.read.json('s3n://udacity-dsnd/sparkify/sparkify_event_data.json')\n"
   ]
  },
  {
   "cell_type": "code",
   "execution_count": 12,
   "metadata": {
    "execution": {
     "iopub.execute_input": "2022-01-22T21:50:26.511052Z",
     "iopub.status.busy": "2022-01-22T21:50:26.510585Z",
     "iopub.status.idle": "2022-01-22T21:50:26.791408Z",
     "shell.execute_reply": "2022-01-22T21:50:26.790420Z",
     "shell.execute_reply.started": "2022-01-22T21:50:26.511011Z"
    },
    "tags": []
   },
   "outputs": [
    {
     "data": {
      "application/vnd.jupyter.widget-view+json": {
       "model_id": "fc062f1048894a46a8986d16bbafb649",
       "version_major": 2,
       "version_minor": 0
      },
      "text/plain": [
       "VBox()"
      ]
     },
     "metadata": {},
     "output_type": "display_data"
    },
    {
     "data": {
      "application/vnd.jupyter.widget-view+json": {
       "model_id": "",
       "version_major": 2,
       "version_minor": 0
      },
      "text/plain": [
       "FloatProgress(value=0.0, bar_style='info', description='Progress:', layout=Layout(height='25px', width='50%'),…"
      ]
     },
     "metadata": {},
     "output_type": "display_data"
    }
   ],
   "source": [
    "# print schema\n",
    "# df.printSchema()"
   ]
  },
  {
   "cell_type": "code",
   "execution_count": 13,
   "metadata": {
    "execution": {
     "iopub.execute_input": "2022-01-22T21:50:26.793153Z",
     "iopub.status.busy": "2022-01-22T21:50:26.792680Z",
     "iopub.status.idle": "2022-01-22T21:50:27.152472Z",
     "shell.execute_reply": "2022-01-22T21:50:27.151394Z",
     "shell.execute_reply.started": "2022-01-22T21:50:26.793100Z"
    },
    "tags": []
   },
   "outputs": [
    {
     "data": {
      "application/vnd.jupyter.widget-view+json": {
       "model_id": "3fa3fa5f68d04322a6310c99214d1317",
       "version_major": 2,
       "version_minor": 0
      },
      "text/plain": [
       "VBox()"
      ]
     },
     "metadata": {},
     "output_type": "display_data"
    },
    {
     "data": {
      "application/vnd.jupyter.widget-view+json": {
       "model_id": "",
       "version_major": 2,
       "version_minor": 0
      },
      "text/plain": [
       "FloatProgress(value=0.0, bar_style='info', description='Progress:', layout=Layout(height='25px', width='50%'),…"
      ]
     },
     "metadata": {},
     "output_type": "display_data"
    }
   ],
   "source": [
    "# check row data\n",
    "# df.head(2)"
   ]
  },
  {
   "cell_type": "code",
   "execution_count": 14,
   "metadata": {
    "execution": {
     "iopub.execute_input": "2022-01-22T21:50:27.153909Z",
     "iopub.status.busy": "2022-01-22T21:50:27.153642Z",
     "iopub.status.idle": "2022-01-22T21:50:28.197366Z",
     "shell.execute_reply": "2022-01-22T21:50:28.196633Z",
     "shell.execute_reply.started": "2022-01-22T21:50:27.153868Z"
    },
    "tags": []
   },
   "outputs": [
    {
     "data": {
      "application/vnd.jupyter.widget-view+json": {
       "model_id": "b16017f4f92e48b096590fa3bb91fd19",
       "version_major": 2,
       "version_minor": 0
      },
      "text/plain": [
       "VBox()"
      ]
     },
     "metadata": {},
     "output_type": "display_data"
    },
    {
     "data": {
      "application/vnd.jupyter.widget-view+json": {
       "model_id": "",
       "version_major": 2,
       "version_minor": 0
      },
      "text/plain": [
       "FloatProgress(value=0.0, bar_style='info', description='Progress:', layout=Layout(height='25px', width='50%'),…"
      ]
     },
     "metadata": {},
     "output_type": "display_data"
    }
   ],
   "source": [
    "# convert unixtime to datetime\n",
    "df = df.withColumn('datetime', from_unixtime(df.ts/1000))"
   ]
  },
  {
   "cell_type": "code",
   "execution_count": 15,
   "metadata": {
    "execution": {
     "iopub.execute_input": "2022-01-22T21:50:28.198729Z",
     "iopub.status.busy": "2022-01-22T21:50:28.198481Z",
     "iopub.status.idle": "2022-01-22T21:50:28.456711Z",
     "shell.execute_reply": "2022-01-22T21:50:28.455895Z",
     "shell.execute_reply.started": "2022-01-22T21:50:28.198691Z"
    },
    "tags": []
   },
   "outputs": [
    {
     "data": {
      "application/vnd.jupyter.widget-view+json": {
       "model_id": "7deee95b15d54bef8105d814ee26ab04",
       "version_major": 2,
       "version_minor": 0
      },
      "text/plain": [
       "VBox()"
      ]
     },
     "metadata": {},
     "output_type": "display_data"
    },
    {
     "data": {
      "application/vnd.jupyter.widget-view+json": {
       "model_id": "",
       "version_major": 2,
       "version_minor": 0
      },
      "text/plain": [
       "FloatProgress(value=0.0, bar_style='info', description='Progress:', layout=Layout(height='25px', width='50%'),…"
      ]
     },
     "metadata": {},
     "output_type": "display_data"
    }
   ],
   "source": [
    "# use pandas to check with readable format\n",
    "# df_5 = df.limit(5).toPandas()\n",
    "# df_5.head()"
   ]
  },
  {
   "cell_type": "code",
   "execution_count": 16,
   "metadata": {
    "execution": {
     "iopub.execute_input": "2022-01-22T21:50:28.458402Z",
     "iopub.status.busy": "2022-01-22T21:50:28.458132Z",
     "iopub.status.idle": "2022-01-22T21:50:28.773027Z",
     "shell.execute_reply": "2022-01-22T21:50:28.772018Z",
     "shell.execute_reply.started": "2022-01-22T21:50:28.458363Z"
    },
    "tags": []
   },
   "outputs": [
    {
     "data": {
      "application/vnd.jupyter.widget-view+json": {
       "model_id": "da1303b41a8040de95f9b4dcb37afa5b",
       "version_major": 2,
       "version_minor": 0
      },
      "text/plain": [
       "VBox()"
      ]
     },
     "metadata": {},
     "output_type": "display_data"
    },
    {
     "data": {
      "application/vnd.jupyter.widget-view+json": {
       "model_id": "",
       "version_major": 2,
       "version_minor": 0
      },
      "text/plain": [
       "FloatProgress(value=0.0, bar_style='info', description='Progress:', layout=Layout(height='25px', width='50%'),…"
      ]
     },
     "metadata": {},
     "output_type": "display_data"
    }
   ],
   "source": [
    "# total data count\n",
    "# df.count()"
   ]
  },
  {
   "cell_type": "markdown",
   "metadata": {},
   "source": [
    "## Cleanup data"
   ]
  },
  {
   "cell_type": "code",
   "execution_count": 17,
   "metadata": {
    "execution": {
     "iopub.execute_input": "2022-01-22T21:50:28.834018Z",
     "iopub.status.busy": "2022-01-22T21:50:28.833718Z",
     "iopub.status.idle": "2022-01-22T21:50:29.158622Z",
     "shell.execute_reply": "2022-01-22T21:50:29.157876Z",
     "shell.execute_reply.started": "2022-01-22T21:50:28.833973Z"
    },
    "tags": []
   },
   "outputs": [
    {
     "data": {
      "application/vnd.jupyter.widget-view+json": {
       "model_id": "db5e4b82904c4be394b1800a65cddace",
       "version_major": 2,
       "version_minor": 0
      },
      "text/plain": [
       "VBox()"
      ]
     },
     "metadata": {},
     "output_type": "display_data"
    },
    {
     "data": {
      "application/vnd.jupyter.widget-view+json": {
       "model_id": "",
       "version_major": 2,
       "version_minor": 0
      },
      "text/plain": [
       "FloatProgress(value=0.0, bar_style='info', description='Progress:', layout=Layout(height='25px', width='50%'),…"
      ]
     },
     "metadata": {},
     "output_type": "display_data"
    }
   ],
   "source": [
    "# check null valuse\n",
    "# column_null_count = {col:df.filter(df[col].isNull()).count() for col in df.columns}\n",
    "# column_null_count"
   ]
  },
  {
   "cell_type": "code",
   "execution_count": 18,
   "metadata": {
    "execution": {
     "iopub.execute_input": "2022-01-22T21:50:29.161502Z",
     "iopub.status.busy": "2022-01-22T21:50:29.161044Z",
     "iopub.status.idle": "2022-01-22T21:50:29.535387Z",
     "shell.execute_reply": "2022-01-22T21:50:29.534540Z",
     "shell.execute_reply.started": "2022-01-22T21:50:29.161458Z"
    },
    "tags": []
   },
   "outputs": [
    {
     "data": {
      "application/vnd.jupyter.widget-view+json": {
       "model_id": "d7f00343d8e14db085af8f9a863607f1",
       "version_major": 2,
       "version_minor": 0
      },
      "text/plain": [
       "VBox()"
      ]
     },
     "metadata": {},
     "output_type": "display_data"
    },
    {
     "data": {
      "application/vnd.jupyter.widget-view+json": {
       "model_id": "",
       "version_major": 2,
       "version_minor": 0
      },
      "text/plain": [
       "FloatProgress(value=0.0, bar_style='info', description='Progress:', layout=Layout(height='25px', width='50%'),…"
      ]
     },
     "metadata": {},
     "output_type": "display_data"
    }
   ],
   "source": [
    "# check userid\n",
    "# df.select(\"userId\").dropDuplicates().sort(\"userId\").show()"
   ]
  },
  {
   "cell_type": "code",
   "execution_count": 19,
   "metadata": {
    "execution": {
     "iopub.execute_input": "2022-01-22T21:50:29.537652Z",
     "iopub.status.busy": "2022-01-22T21:50:29.537027Z",
     "iopub.status.idle": "2022-01-22T21:50:29.847852Z",
     "shell.execute_reply": "2022-01-22T21:50:29.846947Z",
     "shell.execute_reply.started": "2022-01-22T21:50:29.537609Z"
    },
    "tags": []
   },
   "outputs": [
    {
     "data": {
      "application/vnd.jupyter.widget-view+json": {
       "model_id": "90c793a09efb4ae2a0f53d63eac731b9",
       "version_major": 2,
       "version_minor": 0
      },
      "text/plain": [
       "VBox()"
      ]
     },
     "metadata": {},
     "output_type": "display_data"
    },
    {
     "data": {
      "application/vnd.jupyter.widget-view+json": {
       "model_id": "",
       "version_major": 2,
       "version_minor": 0
      },
      "text/plain": [
       "FloatProgress(value=0.0, bar_style='info', description='Progress:', layout=Layout(height='25px', width='50%'),…"
      ]
     },
     "metadata": {},
     "output_type": "display_data"
    }
   ],
   "source": [
    "# remove empty userid rows\n",
    "# print(f'prev: {df.count()}')\n",
    "# df = df.filter(df[\"userId\"]!=\"\")\n",
    "# print(f'after: {df.count()}')\n"
   ]
  },
  {
   "cell_type": "markdown",
   "metadata": {},
   "source": [
    "# Exploratory Data Analysis\n",
    "When you're working with the full dataset, perform EDA by loading a small subset of the data and doing basic manipulations within Spark. In this workspace, you are already provided a small subset of data you can explore.\n",
    "\n",
    "### Define Churn\n",
    "\n",
    "Once you've done some preliminary analysis, create a column `Churn` to use as the label for your model. I suggest using the `Cancellation Confirmation` events to define your churn, which happen for both paid and free users. As a bonus task, you can also look into the `Downgrade` events.\n",
    "\n",
    "### Explore Data\n",
    "Once you've defined churn, perform some exploratory data analysis to observe the behavior for users who stayed vs users who churned. You can start by exploring aggregates on these two groups of users, observing how much of a specific action they experienced per a certain time unit or number of songs played."
   ]
  },
  {
   "cell_type": "code",
   "execution_count": 20,
   "metadata": {
    "execution": {
     "iopub.execute_input": "2022-01-22T21:50:29.849888Z",
     "iopub.status.busy": "2022-01-22T21:50:29.849317Z",
     "iopub.status.idle": "2022-01-22T21:50:30.158777Z",
     "shell.execute_reply": "2022-01-22T21:50:30.157935Z",
     "shell.execute_reply.started": "2022-01-22T21:50:29.849847Z"
    },
    "tags": []
   },
   "outputs": [
    {
     "data": {
      "application/vnd.jupyter.widget-view+json": {
       "model_id": "043a1afec1484b91a8ab8ee905100335",
       "version_major": 2,
       "version_minor": 0
      },
      "text/plain": [
       "VBox()"
      ]
     },
     "metadata": {},
     "output_type": "display_data"
    },
    {
     "data": {
      "application/vnd.jupyter.widget-view+json": {
       "model_id": "",
       "version_major": 2,
       "version_minor": 0
      },
      "text/plain": [
       "FloatProgress(value=0.0, bar_style='info', description='Progress:', layout=Layout(height='25px', width='50%'),…"
      ]
     },
     "metadata": {},
     "output_type": "display_data"
    }
   ],
   "source": [
    "# count records by page\n",
    "# df.groupby('page').count().orderBy(desc('count')).show(100)"
   ]
  },
  {
   "cell_type": "code",
   "execution_count": 21,
   "metadata": {
    "execution": {
     "iopub.execute_input": "2022-01-22T21:50:30.160675Z",
     "iopub.status.busy": "2022-01-22T21:50:30.160011Z",
     "iopub.status.idle": "2022-01-22T21:50:30.711411Z",
     "shell.execute_reply": "2022-01-22T21:50:30.710689Z",
     "shell.execute_reply.started": "2022-01-22T21:50:30.160633Z"
    },
    "tags": []
   },
   "outputs": [
    {
     "data": {
      "application/vnd.jupyter.widget-view+json": {
       "model_id": "23ac0544052b4ed5afdd086cc24f67d5",
       "version_major": 2,
       "version_minor": 0
      },
      "text/plain": [
       "VBox()"
      ]
     },
     "metadata": {},
     "output_type": "display_data"
    },
    {
     "data": {
      "application/vnd.jupyter.widget-view+json": {
       "model_id": "",
       "version_major": 2,
       "version_minor": 0
      },
      "text/plain": [
       "FloatProgress(value=0.0, bar_style='info', description='Progress:', layout=Layout(height='25px', width='50%'),…"
      ]
     },
     "metadata": {},
     "output_type": "display_data"
    }
   ],
   "source": [
    "# create churn column \n",
    "cancel_event = udf(lambda x: 1 if x == 'Cancellation Confirmation' else 0, IntegerType())\n",
    "df = df.withColumn('churn', cancel_event('page'))\n",
    "\n",
    "#create downgrade column\n",
    "downgrade_event = udf(lambda x: 1 if x == 'Downgrade' else 0, IntegerType())\n",
    "df = df.withColumn('downgrade', downgrade_event('page'))\n"
   ]
  },
  {
   "cell_type": "code",
   "execution_count": 22,
   "metadata": {
    "execution": {
     "iopub.execute_input": "2022-01-22T21:50:30.713295Z",
     "iopub.status.busy": "2022-01-22T21:50:30.713028Z",
     "iopub.status.idle": "2022-01-22T21:50:31.185442Z",
     "shell.execute_reply": "2022-01-22T21:50:31.184739Z",
     "shell.execute_reply.started": "2022-01-22T21:50:30.713256Z"
    },
    "tags": []
   },
   "outputs": [
    {
     "data": {
      "application/vnd.jupyter.widget-view+json": {
       "model_id": "d635ec0a0c73481aad1541ba93424353",
       "version_major": 2,
       "version_minor": 0
      },
      "text/plain": [
       "VBox()"
      ]
     },
     "metadata": {},
     "output_type": "display_data"
    },
    {
     "data": {
      "application/vnd.jupyter.widget-view+json": {
       "model_id": "",
       "version_major": 2,
       "version_minor": 0
      },
      "text/plain": [
       "FloatProgress(value=0.0, bar_style='info', description='Progress:', layout=Layout(height='25px', width='50%'),…"
      ]
     },
     "metadata": {},
     "output_type": "display_data"
    }
   ],
   "source": [
    "# flag churned user \n",
    "windowval = Window.partitionBy(\"userId\").orderBy(desc(\"ts\")).rangeBetween(Window.unboundedPreceding, 0)\n",
    "df = df.withColumn(\"churn\", Fsum(\"churn\").over(windowval))"
   ]
  },
  {
   "cell_type": "code",
   "execution_count": 23,
   "metadata": {
    "execution": {
     "iopub.execute_input": "2022-01-22T21:50:31.186886Z",
     "iopub.status.busy": "2022-01-22T21:50:31.186597Z",
     "iopub.status.idle": "2022-01-22T21:50:31.461425Z",
     "shell.execute_reply": "2022-01-22T21:50:31.460645Z",
     "shell.execute_reply.started": "2022-01-22T21:50:31.186843Z"
    },
    "tags": []
   },
   "outputs": [
    {
     "data": {
      "application/vnd.jupyter.widget-view+json": {
       "model_id": "2f5763b0e403417fb4f4aa35c5ce7e0d",
       "version_major": 2,
       "version_minor": 0
      },
      "text/plain": [
       "VBox()"
      ]
     },
     "metadata": {},
     "output_type": "display_data"
    },
    {
     "data": {
      "application/vnd.jupyter.widget-view+json": {
       "model_id": "",
       "version_major": 2,
       "version_minor": 0
      },
      "text/plain": [
       "FloatProgress(value=0.0, bar_style='info', description='Progress:', layout=Layout(height='25px', width='50%'),…"
      ]
     },
     "metadata": {},
     "output_type": "display_data"
    }
   ],
   "source": [
    "# show cancelled user \n",
    "#df.filter(\"page == 'Cancellation Confirmation'\").head()\n",
    "# 125 user canceled\n",
    "# df.filter(\"userId == '125'\").select(['userId', 'page', 'churn', 'downgrade', 'datetime']).orderBy('ts').collect()"
   ]
  },
  {
   "cell_type": "code",
   "execution_count": 24,
   "metadata": {
    "execution": {
     "iopub.execute_input": "2022-01-22T21:50:31.533260Z",
     "iopub.status.busy": "2022-01-22T21:50:31.533005Z",
     "iopub.status.idle": "2022-01-22T21:50:31.860973Z",
     "shell.execute_reply": "2022-01-22T21:50:31.860230Z",
     "shell.execute_reply.started": "2022-01-22T21:50:31.533232Z"
    },
    "tags": []
   },
   "outputs": [
    {
     "data": {
      "application/vnd.jupyter.widget-view+json": {
       "model_id": "5e6fd954005d4324953cf47cefa96756",
       "version_major": 2,
       "version_minor": 0
      },
      "text/plain": [
       "VBox()"
      ]
     },
     "metadata": {},
     "output_type": "display_data"
    },
    {
     "data": {
      "application/vnd.jupyter.widget-view+json": {
       "model_id": "",
       "version_major": 2,
       "version_minor": 0
      },
      "text/plain": [
       "FloatProgress(value=0.0, bar_style='info', description='Progress:', layout=Layout(height='25px', width='50%'),…"
      ]
     },
     "metadata": {},
     "output_type": "display_data"
    }
   ],
   "source": [
    "# check date's date time\n",
    "# df.agg(Fmin(df.datetime), Fmax(df.datetime)).show()"
   ]
  },
  {
   "cell_type": "code",
   "execution_count": 25,
   "metadata": {
    "execution": {
     "iopub.execute_input": "2022-01-22T21:50:31.865712Z",
     "iopub.status.busy": "2022-01-22T21:50:31.865504Z",
     "iopub.status.idle": "2022-01-22T21:50:32.254534Z",
     "shell.execute_reply": "2022-01-22T21:50:32.253809Z",
     "shell.execute_reply.started": "2022-01-22T21:50:31.865685Z"
    },
    "tags": []
   },
   "outputs": [
    {
     "data": {
      "application/vnd.jupyter.widget-view+json": {
       "model_id": "d6b8160f742845caa5110053fc700087",
       "version_major": 2,
       "version_minor": 0
      },
      "text/plain": [
       "VBox()"
      ]
     },
     "metadata": {},
     "output_type": "display_data"
    },
    {
     "data": {
      "application/vnd.jupyter.widget-view+json": {
       "model_id": "",
       "version_major": 2,
       "version_minor": 0
      },
      "text/plain": [
       "FloatProgress(value=0.0, bar_style='info', description='Progress:', layout=Layout(height='25px', width='50%'),…"
      ]
     },
     "metadata": {},
     "output_type": "display_data"
    }
   ],
   "source": [
    "# create played hour column\n",
    "# get_hour = udf(lambda x: datetime.datetime.fromtimestamp(x / 1000.0). hour)\n",
    "# df = df.withColumn(\"hour\", get_hour(df.ts))\n",
    "# songs_in_hour = df.filter(df.page == \"NextSong\").groupby(df.hour, df.churn).count().orderBy(df.hour.cast(\"float\"))\n",
    "# songs_in_hour.show()\n"
   ]
  },
  {
   "cell_type": "code",
   "execution_count": 26,
   "metadata": {
    "execution": {
     "iopub.execute_input": "2022-01-22T21:50:32.258224Z",
     "iopub.status.busy": "2022-01-22T21:50:32.258018Z",
     "iopub.status.idle": "2022-01-22T21:50:32.643922Z",
     "shell.execute_reply": "2022-01-22T21:50:32.643056Z",
     "shell.execute_reply.started": "2022-01-22T21:50:32.258198Z"
    },
    "tags": []
   },
   "outputs": [
    {
     "data": {
      "application/vnd.jupyter.widget-view+json": {
       "model_id": "e761948be7e940ea9f09ead7528fe032",
       "version_major": 2,
       "version_minor": 0
      },
      "text/plain": [
       "VBox()"
      ]
     },
     "metadata": {},
     "output_type": "display_data"
    },
    {
     "data": {
      "application/vnd.jupyter.widget-view+json": {
       "model_id": "",
       "version_major": 2,
       "version_minor": 0
      },
      "text/plain": [
       "FloatProgress(value=0.0, bar_style='info', description='Progress:', layout=Layout(height='25px', width='50%'),…"
      ]
     },
     "metadata": {},
     "output_type": "display_data"
    }
   ],
   "source": [
    "# plot song played count and time \n",
    "# songs_in_hour_pd = songs_in_hour.toPandas()\n",
    "# songs_in_hour_pd.hour = pd.to_numeric(songs_in_hour_pd.hour)\n",
    "\n",
    "# s = sns.scatterplot(data=songs_in_hour_pd, x=\"hour\", y=\"count\", hue='churn')\n",
    "# s.set(title=\"Songs played\", xlabel='Hour', ylabel='Song count')\n",
    "# s.set(xlim=(-1, 24))\n",
    "# s.set(ylim=(0, 1.2 * max(songs_in_hour_pd[\"count\"])))"
   ]
  },
  {
   "cell_type": "code",
   "execution_count": 27,
   "metadata": {
    "execution": {
     "iopub.execute_input": "2022-01-22T21:50:32.646133Z",
     "iopub.status.busy": "2022-01-22T21:50:32.645711Z",
     "iopub.status.idle": "2022-01-22T21:50:32.968818Z",
     "shell.execute_reply": "2022-01-22T21:50:32.968085Z",
     "shell.execute_reply.started": "2022-01-22T21:50:32.646090Z"
    },
    "tags": []
   },
   "outputs": [
    {
     "data": {
      "application/vnd.jupyter.widget-view+json": {
       "model_id": "be0297c6a8de44889423180549d42ad3",
       "version_major": 2,
       "version_minor": 0
      },
      "text/plain": [
       "VBox()"
      ]
     },
     "metadata": {},
     "output_type": "display_data"
    },
    {
     "data": {
      "application/vnd.jupyter.widget-view+json": {
       "model_id": "",
       "version_major": 2,
       "version_minor": 0
      },
      "text/plain": [
       "FloatProgress(value=0.0, bar_style='info', description='Progress:', layout=Layout(height='25px', width='50%'),…"
      ]
     },
     "metadata": {},
     "output_type": "display_data"
    }
   ],
   "source": [
    "# songs_in_hour_pd.plot.scatter(x='hour',\n",
    "#                       y='count',\n",
    "#                       c='churn',\n",
    "#                       colormap='viridis')\n",
    "# plt.ylabel('count')\n",
    "# plt.xlabel('hour')\n",
    "# plt.title('Song played  in a day ')\n",
    "# %matplot plt"
   ]
  },
  {
   "cell_type": "code",
   "execution_count": 28,
   "metadata": {
    "execution": {
     "iopub.execute_input": "2022-01-22T21:50:32.972415Z",
     "iopub.status.busy": "2022-01-22T21:50:32.972213Z",
     "iopub.status.idle": "2022-01-22T21:50:33.377294Z",
     "shell.execute_reply": "2022-01-22T21:50:33.376496Z",
     "shell.execute_reply.started": "2022-01-22T21:50:32.972389Z"
    },
    "tags": []
   },
   "outputs": [
    {
     "data": {
      "application/vnd.jupyter.widget-view+json": {
       "model_id": "a6b774352ef8412ea811f1d1dd96448b",
       "version_major": 2,
       "version_minor": 0
      },
      "text/plain": [
       "VBox()"
      ]
     },
     "metadata": {},
     "output_type": "display_data"
    },
    {
     "data": {
      "application/vnd.jupyter.widget-view+json": {
       "model_id": "",
       "version_major": 2,
       "version_minor": 0
      },
      "text/plain": [
       "FloatProgress(value=0.0, bar_style='info', description='Progress:', layout=Layout(height='25px', width='50%'),…"
      ]
     },
     "metadata": {},
     "output_type": "display_data"
    }
   ],
   "source": [
    "# check churn by gender \n",
    "\n",
    "# churn_by_gender_df = df.groupby(df.gender, df.churn).count().toPandas()\n",
    "# churn_by_gender_df"
   ]
  },
  {
   "cell_type": "code",
   "execution_count": null,
   "metadata": {},
   "outputs": [],
   "source": []
  },
  {
   "cell_type": "code",
   "execution_count": 29,
   "metadata": {
    "execution": {
     "iopub.execute_input": "2022-01-22T21:50:33.378894Z",
     "iopub.status.busy": "2022-01-22T21:50:33.378634Z",
     "iopub.status.idle": "2022-01-22T21:50:33.756371Z",
     "shell.execute_reply": "2022-01-22T21:50:33.755480Z",
     "shell.execute_reply.started": "2022-01-22T21:50:33.378856Z"
    },
    "tags": []
   },
   "outputs": [
    {
     "data": {
      "application/vnd.jupyter.widget-view+json": {
       "model_id": "fc165c47a85f4cf7895bb21d8fcdaf3e",
       "version_major": 2,
       "version_minor": 0
      },
      "text/plain": [
       "VBox()"
      ]
     },
     "metadata": {},
     "output_type": "display_data"
    },
    {
     "data": {
      "application/vnd.jupyter.widget-view+json": {
       "model_id": "",
       "version_major": 2,
       "version_minor": 0
      },
      "text/plain": [
       "FloatProgress(value=0.0, bar_style='info', description='Progress:', layout=Layout(height='25px', width='50%'),…"
      ]
     },
     "metadata": {},
     "output_type": "display_data"
    }
   ],
   "source": [
    "# plot bar chart\n",
    "# churn_by_gender_df.pivot(index='gender', columns='churn', values='count').plot.bar(stacked=True, title='Gender and churn');\n",
    "# %matplot plt"
   ]
  },
  {
   "cell_type": "code",
   "execution_count": 30,
   "metadata": {
    "execution": {
     "iopub.execute_input": "2022-01-22T21:50:33.758459Z",
     "iopub.status.busy": "2022-01-22T21:50:33.758070Z",
     "iopub.status.idle": "2022-01-22T21:50:34.147336Z",
     "shell.execute_reply": "2022-01-22T21:50:34.146525Z",
     "shell.execute_reply.started": "2022-01-22T21:50:33.758418Z"
    },
    "tags": []
   },
   "outputs": [
    {
     "data": {
      "application/vnd.jupyter.widget-view+json": {
       "model_id": "f9104696f7894450bb07d5a91c1f61bf",
       "version_major": 2,
       "version_minor": 0
      },
      "text/plain": [
       "VBox()"
      ]
     },
     "metadata": {},
     "output_type": "display_data"
    },
    {
     "data": {
      "application/vnd.jupyter.widget-view+json": {
       "model_id": "",
       "version_major": 2,
       "version_minor": 0
      },
      "text/plain": [
       "FloatProgress(value=0.0, bar_style='info', description='Progress:', layout=Layout(height='25px', width='50%'),…"
      ]
     },
     "metadata": {},
     "output_type": "display_data"
    }
   ],
   "source": [
    "# churned = np.array(churn_by_gender_df[churn_by_gender_df['churn'] == 1]['count'])\n",
    "# user_all = np.array(churn_by_gender_df.groupby('gender').sum()['count'])\n",
    "# p = (churned / user_all )* 100\n",
    "# print(f\"Cancel rate F: {p[0]:.2f}%     M: {p[1]:.2f}%\" )      "
   ]
  },
  {
   "cell_type": "code",
   "execution_count": 31,
   "metadata": {
    "execution": {
     "iopub.execute_input": "2022-01-22T21:50:34.149111Z",
     "iopub.status.busy": "2022-01-22T21:50:34.148846Z",
     "iopub.status.idle": "2022-01-22T21:50:34.544059Z",
     "shell.execute_reply": "2022-01-22T21:50:34.540945Z",
     "shell.execute_reply.started": "2022-01-22T21:50:34.149073Z"
    },
    "tags": []
   },
   "outputs": [
    {
     "data": {
      "application/vnd.jupyter.widget-view+json": {
       "model_id": "e98aeb4f6fa94a5992afc725a49b8d76",
       "version_major": 2,
       "version_minor": 0
      },
      "text/plain": [
       "VBox()"
      ]
     },
     "metadata": {},
     "output_type": "display_data"
    },
    {
     "data": {
      "application/vnd.jupyter.widget-view+json": {
       "model_id": "",
       "version_major": 2,
       "version_minor": 0
      },
      "text/plain": [
       "FloatProgress(value=0.0, bar_style='info', description='Progress:', layout=Layout(height='25px', width='50%'),…"
      ]
     },
     "metadata": {},
     "output_type": "display_data"
    }
   ],
   "source": [
    "# check churn by level \n",
    "# churn_by_level_df = df.groupby(df.level, df.churn).count().toPandas()\n",
    "# churn_by_level_df"
   ]
  },
  {
   "cell_type": "code",
   "execution_count": 32,
   "metadata": {
    "execution": {
     "iopub.execute_input": "2022-01-22T21:50:34.545787Z",
     "iopub.status.busy": "2022-01-22T21:50:34.545391Z",
     "iopub.status.idle": "2022-01-22T21:50:34.940245Z",
     "shell.execute_reply": "2022-01-22T21:50:34.939474Z",
     "shell.execute_reply.started": "2022-01-22T21:50:34.545742Z"
    },
    "tags": []
   },
   "outputs": [
    {
     "data": {
      "application/vnd.jupyter.widget-view+json": {
       "model_id": "09596bc3f6fb4b948904c2db67f315e5",
       "version_major": 2,
       "version_minor": 0
      },
      "text/plain": [
       "VBox()"
      ]
     },
     "metadata": {},
     "output_type": "display_data"
    },
    {
     "data": {
      "application/vnd.jupyter.widget-view+json": {
       "model_id": "",
       "version_major": 2,
       "version_minor": 0
      },
      "text/plain": [
       "FloatProgress(value=0.0, bar_style='info', description='Progress:', layout=Layout(height='25px', width='50%'),…"
      ]
     },
     "metadata": {},
     "output_type": "display_data"
    }
   ],
   "source": [
    "# plot bar chart \n",
    "# churn_by_level_df.pivot(index='level', columns='churn', values='count').plot.bar(stacked=True, title='Level and churn')\n",
    "# %matplot plt"
   ]
  },
  {
   "cell_type": "code",
   "execution_count": 33,
   "metadata": {
    "execution": {
     "iopub.execute_input": "2022-01-22T21:50:34.944475Z",
     "iopub.status.busy": "2022-01-22T21:50:34.944255Z",
     "iopub.status.idle": "2022-01-22T21:50:35.334395Z",
     "shell.execute_reply": "2022-01-22T21:50:35.270839Z",
     "shell.execute_reply.started": "2022-01-22T21:50:34.944447Z"
    },
    "tags": []
   },
   "outputs": [
    {
     "data": {
      "application/vnd.jupyter.widget-view+json": {
       "model_id": "cd9a8e84e4a4415d9bbeb32e46fdb2c4",
       "version_major": 2,
       "version_minor": 0
      },
      "text/plain": [
       "VBox()"
      ]
     },
     "metadata": {},
     "output_type": "display_data"
    },
    {
     "data": {
      "application/vnd.jupyter.widget-view+json": {
       "model_id": "",
       "version_major": 2,
       "version_minor": 0
      },
      "text/plain": [
       "FloatProgress(value=0.0, bar_style='info', description='Progress:', layout=Layout(height='25px', width='50%'),…"
      ]
     },
     "metadata": {},
     "output_type": "display_data"
    }
   ],
   "source": [
    "# churned = np.array(churn_by_level_df[churn_by_level_df['churn'] == 1]['count'])\n",
    "# user_all = np.array(churn_by_level_df.groupby('level').sum()['count'])\n",
    "# p = (churned / user_all )* 100\n",
    "# print(f\"Cancel rate Free: {p[0]:.2f}%     Paied: {p[1]:.2f}%\" )      "
   ]
  },
  {
   "cell_type": "code",
   "execution_count": 34,
   "metadata": {
    "execution": {
     "iopub.execute_input": "2022-01-22T21:50:35.343838Z",
     "iopub.status.busy": "2022-01-22T21:50:35.342202Z",
     "iopub.status.idle": "2022-01-22T21:50:35.846118Z",
     "shell.execute_reply": "2022-01-22T21:50:35.845392Z",
     "shell.execute_reply.started": "2022-01-22T21:50:35.343785Z"
    },
    "tags": []
   },
   "outputs": [
    {
     "data": {
      "application/vnd.jupyter.widget-view+json": {
       "model_id": "925c6bed9ef14d4183220680b4057663",
       "version_major": 2,
       "version_minor": 0
      },
      "text/plain": [
       "VBox()"
      ]
     },
     "metadata": {},
     "output_type": "display_data"
    },
    {
     "data": {
      "application/vnd.jupyter.widget-view+json": {
       "model_id": "",
       "version_major": 2,
       "version_minor": 0
      },
      "text/plain": [
       "FloatProgress(value=0.0, bar_style='info', description='Progress:', layout=Layout(height='25px', width='50%'),…"
      ]
     },
     "metadata": {},
     "output_type": "display_data"
    }
   ],
   "source": [
    "# find location\n",
    "def find_location(location_str):\n",
    "    try:\n",
    "        if location_str != None:\n",
    "            locations = location_str.split(',')\n",
    "            if 0 < len(locations):\n",
    "                if locations[1] != None:\n",
    "                    return str(locations[1]).strip()\n",
    "    except:\n",
    "        pass    \n",
    "    \n",
    "    return ''\n",
    "\n",
    "get_location_chr = udf(lambda x: find_location(x))\n",
    "df = df.withColumn(\"location_code\", get_location_chr(df.location))"
   ]
  },
  {
   "cell_type": "code",
   "execution_count": 39,
   "metadata": {
    "execution": {
     "iopub.execute_input": "2022-01-22T14:31:09.593097Z",
     "iopub.status.busy": "2022-01-22T14:31:09.592844Z",
     "iopub.status.idle": "2022-01-22T14:34:11.090373Z",
     "shell.execute_reply": "2022-01-22T14:34:11.089226Z",
     "shell.execute_reply.started": "2022-01-22T14:31:09.593067Z"
    },
    "tags": []
   },
   "outputs": [
    {
     "data": {
      "application/vnd.jupyter.widget-view+json": {
       "model_id": "0f38da095f1d48d8b3c1a4fd7ffad1dd",
       "version_major": 2,
       "version_minor": 0
      },
      "text/plain": [
       "VBox()"
      ]
     },
     "metadata": {},
     "output_type": "display_data"
    },
    {
     "data": {
      "application/vnd.jupyter.widget-view+json": {
       "model_id": "",
       "version_major": 2,
       "version_minor": 0
      },
      "text/plain": [
       "FloatProgress(value=0.0, bar_style='info', description='Progress:', layout=Layout(height='25px', width='50%'),…"
      ]
     },
     "metadata": {},
     "output_type": "display_data"
    }
   ],
   "source": [
    "# find by location \n",
    "\n",
    "\n",
    "#get_location_chr = udf(lambda x: (x.split(',')[1]).strip())\n",
    "\n",
    "#df = df.withColumn(\"location_code\", get_location_chr(df.location))\n",
    "\n",
    "location_df = df.groupby('location_code', 'churn').count().orderBy(desc('count')).toPandas()"
   ]
  },
  {
   "cell_type": "code",
   "execution_count": 46,
   "metadata": {
    "execution": {
     "iopub.execute_input": "2022-01-22T14:46:25.525743Z",
     "iopub.status.busy": "2022-01-22T14:46:25.525001Z",
     "iopub.status.idle": "2022-01-22T14:46:28.046502Z",
     "shell.execute_reply": "2022-01-22T14:46:28.044451Z",
     "shell.execute_reply.started": "2022-01-22T14:46:25.525704Z"
    },
    "tags": []
   },
   "outputs": [
    {
     "data": {
      "application/vnd.jupyter.widget-view+json": {
       "model_id": "a3318ba57e77450d8cc2d6211c1b505f",
       "version_major": 2,
       "version_minor": 0
      },
      "text/plain": [
       "VBox()"
      ]
     },
     "metadata": {},
     "output_type": "display_data"
    },
    {
     "data": {
      "application/vnd.jupyter.widget-view+json": {
       "model_id": "",
       "version_major": 2,
       "version_minor": 0
      },
      "text/plain": [
       "FloatProgress(value=0.0, bar_style='info', description='Progress:', layout=Layout(height='25px', width='50%'),…"
      ]
     },
     "metadata": {},
     "output_type": "display_data"
    },
    {
     "data": {
      "image/png": "[encoded data removed]",
      "text/plain": [
       "<IPython.core.display.Image object>"
      ]
     },
     "metadata": {},
     "output_type": "display_data"
    }
   ],
   "source": [
    "#plot chart \n",
    "location_df.pivot(index='location_code', columns='churn', values='count').plot.bar(stacked=True, title='Location and churn', figsize=(25,10))\n",
    "%matplot plt"
   ]
  },
  {
   "cell_type": "code",
   "execution_count": 45,
   "metadata": {
    "execution": {
     "iopub.execute_input": "2022-01-22T14:44:20.458180Z",
     "iopub.status.busy": "2022-01-22T14:44:20.457663Z",
     "iopub.status.idle": "2022-01-22T14:46:25.523387Z",
     "shell.execute_reply": "2022-01-22T14:46:25.522664Z",
     "shell.execute_reply.started": "2022-01-22T14:44:20.458050Z"
    },
    "tags": []
   },
   "outputs": [
    {
     "data": {
      "application/vnd.jupyter.widget-view+json": {
       "model_id": "514a2aea05a64240a7b877995fbf5fa0",
       "version_major": 2,
       "version_minor": 0
      },
      "text/plain": [
       "VBox()"
      ]
     },
     "metadata": {},
     "output_type": "display_data"
    },
    {
     "data": {
      "application/vnd.jupyter.widget-view+json": {
       "model_id": "",
       "version_major": 2,
       "version_minor": 0
      },
      "text/plain": [
       "FloatProgress(value=0.0, bar_style='info', description='Progress:', layout=Layout(height='25px', width='50%'),…"
      ]
     },
     "metadata": {},
     "output_type": "display_data"
    },
    {
     "name": "stdout",
     "output_type": "stream",
     "text": [
      "['\"Mozilla/5.0 (Windows NT 6.1; WOW64) AppleWebKit/537.36 (KHTML, like Gecko) Chrome/36.0.1985.143 Safari/537.36\"', 'Mozilla/5.0 (Windows NT 6.1; WOW64; rv:31.0) Gecko/20100101 Firefox/31.0', '\"Mozilla/5.0 (Windows NT 6.1; WOW64) AppleWebKit/537.36 (KHTML, like Gecko) Chrome/36.0.1985.125 Safari/537.36\"', '\"Mozilla/5.0 (Macintosh; Intel Mac OS X 10_9_4) AppleWebKit/537.36 (KHTML, like Gecko) Chrome/36.0.1985.143 Safari/537.36\"', '\"Mozilla/5.0 (Macintosh; Intel Mac OS X 10_9_4) AppleWebKit/537.78.2 (KHTML, like Gecko) Version/7.0.6 Safari/537.78.2\"', '\"Mozilla/5.0 (Macintosh; Intel Mac OS X 10_9_4) AppleWebKit/537.36 (KHTML, like Gecko) Chrome/36.0.1985.125 Safari/537.36\"', '\"Mozilla/5.0 (Macintosh; Intel Mac OS X 10_9_4) AppleWebKit/537.77.4 (KHTML, like Gecko) Version/7.0.5 Safari/537.77.4\"', 'Mozilla/5.0 (Macintosh; Intel Mac OS X 10.9; rv:31.0) Gecko/20100101 Firefox/31.0', '\"Mozilla/5.0 (Macintosh; Intel Mac OS X 10_9_4) AppleWebKit/537.36 (KHTML, like Gecko) Chrome/37.0.2062.94 Safari/537.36\"', '\"Mozilla/5.0 (Windows NT 6.3; WOW64) AppleWebKit/537.36 (KHTML, like Gecko) Chrome/36.0.1985.143 Safari/537.36\"', None, '\"Mozilla/5.0 (iPhone; CPU iPhone OS 7_1_2 like Mac OS X) AppleWebKit/537.51.2 (KHTML, like Gecko) Version/7.0 Mobile/11D257 Safari/9537.53\"', 'Mozilla/5.0 (Windows NT 6.1; WOW64; Trident/7.0; rv:11.0) like Gecko', 'Mozilla/5.0 (Windows NT 6.3; WOW64; rv:31.0) Gecko/20100101 Firefox/31.0', '\"Mozilla/5.0 (Windows NT 6.3; WOW64) AppleWebKit/537.36 (KHTML, like Gecko) Chrome/36.0.1985.125 Safari/537.36\"', '\"Mozilla/5.0 (Windows NT 6.1) AppleWebKit/537.36 (KHTML, like Gecko) Chrome/36.0.1985.143 Safari/537.36\"', 'Mozilla/5.0 (X11; Ubuntu; Linux x86_64; rv:31.0) Gecko/20100101 Firefox/31.0', '\"Mozilla/5.0 (Windows NT 6.1) AppleWebKit/537.36 (KHTML, like Gecko) Chrome/36.0.1985.125 Safari/537.36\"', 'Mozilla/5.0 (Windows NT 6.1; rv:31.0) Gecko/20100101 Firefox/31.0', '\"Mozilla/5.0 (iPad; CPU OS 7_1_2 like Mac OS X) AppleWebKit/537.51.2 (KHTML, like Gecko) Version/7.0 Mobile/11D257 Safari/9537.53\"', 'Mozilla/5.0 (Windows NT 5.1; rv:31.0) Gecko/20100101 Firefox/31.0', '\"Mozilla/5.0 (X11; Linux x86_64) AppleWebKit/537.36 (KHTML, like Gecko) Chrome/36.0.1985.143 Safari/537.36\"', '\"Mozilla/5.0 (X11; Linux x86_64) AppleWebKit/537.36 (KHTML, like Gecko) Chrome/36.0.1985.125 Safari/537.36\"', '\"Mozilla/5.0 (Windows NT 6.1; WOW64) AppleWebKit/537.36 (KHTML, like Gecko) Chrome/37.0.2062.103 Safari/537.36\"', 'Mozilla/5.0 (Windows NT 6.3; WOW64; Trident/7.0; rv:11.0) like Gecko', '\"Mozilla/5.0 (iPhone; CPU iPhone OS 7_1_1 like Mac OS X) AppleWebKit/537.51.2 (KHTML, like Gecko) Version/7.0 Mobile/11D201 Safari/9537.53\"', '\"Mozilla/5.0 (Windows NT 6.2; WOW64) AppleWebKit/537.36 (KHTML, like Gecko) Chrome/36.0.1985.143 Safari/537.36\"', 'Mozilla/5.0 (X11; Linux x86_64; rv:31.0) Gecko/20100101 Firefox/31.0', '\"Mozilla/5.0 (X11; Linux x86_64) AppleWebKit/537.36 (KHTML, like Gecko) Ubuntu Chromium/36.0.1985.125 Chrome/36.0.1985.125 Safari/537.36\"', 'Mozilla/5.0 (compatible; MSIE 10.0; Windows NT 6.1; WOW64; Trident/6.0)', '\"Mozilla/5.0 (Macintosh; Intel Mac OS X 10_6_8) AppleWebKit/534.59.10 (KHTML, like Gecko) Version/5.1.9 Safari/534.59.10\"', '\"Mozilla/5.0 (Windows NT 5.1) AppleWebKit/537.36 (KHTML, like Gecko) Chrome/36.0.1985.143 Safari/537.36\"', 'Mozilla/5.0 (compatible; MSIE 9.0; Windows NT 6.1; WOW64; Trident/5.0)', '\"Mozilla/5.0 (Windows NT 6.1; WOW64) AppleWebKit/537.36 (KHTML, like Gecko) Chrome/37.0.2062.94 Safari/537.36\"', '\"Mozilla/5.0 (Macintosh; Intel Mac OS X 10_8_5) AppleWebKit/537.36 (KHTML, like Gecko) Chrome/36.0.1985.125 Safari/537.36\"', 'Mozilla/5.0 (Macintosh; Intel Mac OS X 10.8; rv:31.0) Gecko/20100101 Firefox/31.0', 'Mozilla/5.0 (Windows NT 6.2; WOW64; rv:31.0) Gecko/20100101 Firefox/31.0', '\"Mozilla/5.0 (Windows NT 6.2; WOW64) AppleWebKit/537.36 (KHTML, like Gecko) Chrome/36.0.1985.125 Safari/537.36\"', '\"Mozilla/5.0 (Macintosh; Intel Mac OS X 10_8_5) AppleWebKit/537.36 (KHTML, like Gecko) Chrome/36.0.1985.143 Safari/537.36\"', '\"Mozilla/5.0 (Macintosh; Intel Mac OS X 10_9_3) AppleWebKit/537.36 (KHTML, like Gecko) Chrome/36.0.1985.125 Safari/537.36\"', '\"Mozilla/5.0 (X11; Linux x86_64) AppleWebKit/537.36 (KHTML, like Gecko) Chrome/37.0.2062.94 Safari/537.36\"', '\"Mozilla/5.0 (Macintosh; Intel Mac OS X 10_10) AppleWebKit/600.1.8 (KHTML, like Gecko) Version/8.0 Safari/600.1.8\"', 'Mozilla/5.0 (Windows NT 6.1; WOW64; rv:30.0) Gecko/20100101 Firefox/30.0', '\"Mozilla/5.0 (Windows NT 5.1) AppleWebKit/537.36 (KHTML, like Gecko) Chrome/36.0.1985.125 Safari/537.36\"', '\"Mozilla/5.0 (Macintosh; Intel Mac OS X 10_9_3) AppleWebKit/537.36 (KHTML, like Gecko) Chrome/36.0.1985.143 Safari/537.36\"', 'Mozilla/5.0 (Macintosh; Intel Mac OS X 10.6; rv:31.0) Gecko/20100101 Firefox/31.0', '\"Mozilla/5.0 (Windows NT 6.1; WOW64) AppleWebKit/537.36 (KHTML, like Gecko) Chrome/37.0.2062.102 Safari/537.36\"', '\"Mozilla/5.0 (Windows NT 6.1; WOW64) AppleWebKit/537.36 (KHTML, like Gecko) Chrome/35.0.1916.153 Safari/537.36\"', '\"Mozilla/5.0 (Macintosh; Intel Mac OS X 10_10) AppleWebKit/538.46 (KHTML, like Gecko) Version/8.0 Safari/538.46\"', 'Mozilla/5.0 (Windows NT 6.1; WOW64; rv:32.0) Gecko/20100101 Firefox/32.0', 'Mozilla/5.0 (Windows NT 6.1; Trident/7.0; rv:11.0) like Gecko', '\"Mozilla/5.0 (Macintosh; Intel Mac OS X 10_9_2) AppleWebKit/537.36 (KHTML, like Gecko) Chrome/36.0.1985.125 Safari/537.36\"', '\"Mozilla/5.0 (Macintosh; Intel Mac OS X 10_9_2) AppleWebKit/537.36 (KHTML, like Gecko) Chrome/36.0.1985.143 Safari/537.36\"', '\"Mozilla/5.0 (Macintosh; Intel Mac OS X 10_9_2) AppleWebKit/537.36 (KHTML, like Gecko) Chrome/37.0.2062.94 Safari/537.36\"', '\"Mozilla/5.0 (Macintosh; Intel Mac OS X 10_9_3) AppleWebKit/537.36 (KHTML, like Gecko) Chrome/37.0.2062.94 Safari/537.36\"', '\"Mozilla/5.0 (Windows NT 6.3; WOW64) AppleWebKit/537.36 (KHTML, like Gecko) Chrome/37.0.2062.94 Safari/537.36\"', '\"Mozilla/5.0 (Macintosh; Intel Mac OS X 10_9_4) AppleWebKit/537.36 (KHTML, like Gecko) Chrome/35.0.1916.153 Safari/537.36\"', '\"Mozilla/5.0 (Macintosh; Intel Mac OS X 10_10_0) AppleWebKit/537.36 (KHTML, like Gecko) Chrome/36.0.1985.143 Safari/537.36\"', 'Mozilla/5.0 (Macintosh; Intel Mac OS X 10.7; rv:31.0) Gecko/20100101 Firefox/31.0', '\"Mozilla/5.0 (Macintosh; Intel Mac OS X 10_7_5) AppleWebKit/537.77.4 (KHTML, like Gecko) Version/6.1.5 Safari/537.77.4\"', '\"Mozilla/5.0 (iPad; CPU OS 7_1_1 like Mac OS X) AppleWebKit/537.51.2 (KHTML, like Gecko) Version/7.0 Mobile/11D201 Safari/9537.53\"', '\"Mozilla/5.0 (X11; Linux x86_64) AppleWebKit/537.36 (KHTML, like Gecko) Chrome/35.0.1916.153 Safari/537.36\"', '\"Mozilla/5.0 (Macintosh; Intel Mac OS X 10_7_5) AppleWebKit/537.36 (KHTML, like Gecko) Chrome/36.0.1985.125 Safari/537.36\"', '\"Mozilla/5.0 (iPhone; CPU iPhone OS 7_1 like Mac OS X) AppleWebKit/537.51.2 (KHTML, like Gecko) Version/7.0 Mobile/11D167 Safari/9537.53\"', '\"Mozilla/5.0 (Macintosh; Intel Mac OS X 10_7_5) AppleWebKit/537.36 (KHTML, like Gecko) Chrome/36.0.1985.143 Safari/537.36\"', '\"Mozilla/5.0 (Macintosh; Intel Mac OS X 10_10_0) AppleWebKit/537.36 (KHTML, like Gecko) Chrome/37.0.2062.94 Safari/537.36\"', 'Mozilla/5.0 (Windows NT 6.1; WOW64; rv:24.0) Gecko/20100101 Firefox/24.0', '\"Mozilla/5.0 (iPhone; CPU iPhone OS 7_1_2 like Mac OS X) AppleWebKit/537.51.1 (KHTML, like Gecko) GSA/4.1.0.31802 Mobile/11D257 Safari/9537.53\"', 'Mozilla/5.0 (X11; Ubuntu; Linux i686; rv:31.0) Gecko/20100101 Firefox/31.0', '\"Mozilla/5.0 (Macintosh; Intel Mac OS X 10_8_5) AppleWebKit/537.77.4 (KHTML, like Gecko) Version/6.1.5 Safari/537.77.4\"', '\"Mozilla/5.0 (X11; Linux x86_64) AppleWebKit/537.36 (KHTML, like Gecko) Ubuntu Chromium/34.0.1847.116 Chrome/34.0.1847.116 Safari/537.36\"', '\"Mozilla/5.0 (Macintosh; Intel Mac OS X 10_8_5) AppleWebKit/537.36 (KHTML, like Gecko) Chrome/37.0.2062.94 Safari/537.36\"', '\"Mozilla/5.0 (Macintosh; Intel Mac OS X 10_9_3) AppleWebKit/537.76.4 (KHTML, like Gecko) Version/7.0.4 Safari/537.76.4\"', '\"Mozilla/5.0 (Macintosh; Intel Mac OS X 10_7_5) AppleWebKit/537.78.2 (KHTML, like Gecko) Version/6.1.6 Safari/537.78.2\"', '\"Mozilla/5.0 (Macintosh; Intel Mac OS X 10_10_0) AppleWebKit/537.36 (KHTML, like Gecko) Chrome/36.0.1985.125 Safari/537.36\"', '\"Mozilla/5.0 (Macintosh; Intel Mac OS X 10_9_3) AppleWebKit/537.75.14 (KHTML, like Gecko) Version/7.0.3 Safari/537.75.14\"', 'Mozilla/5.0 (Macintosh; Intel Mac OS X 10.9; rv:30.0) Gecko/20100101 Firefox/30.0', 'Mozilla/5.0 (X11; Ubuntu; Linux x86_64; rv:30.0) Gecko/20100101 Firefox/30.0', 'Mozilla/5.0 (Windows NT 6.0; rv:31.0) Gecko/20100101 Firefox/31.0', '\"Mozilla/5.0 (Macintosh; Intel Mac OS X 10_9_2) AppleWebKit/537.75.14 (KHTML, like Gecko) Version/7.0.3 Safari/537.75.14\"', 'Mozilla/5.0 (compatible; MSIE 9.0; Windows NT 6.1; Trident/5.0)', '\"Mozilla/5.0 (Macintosh; Intel Mac OS X 10_9_2) AppleWebKit/537.74.9 (KHTML, like Gecko) Version/7.0.2 Safari/537.74.9\"', 'Mozilla/5.0 (compatible; MSIE 10.0; Windows NT 6.2; WOW64; Trident/6.0)', 'Mozilla/5.0 (Windows NT 6.1; WOW64; rv:29.0) Gecko/20100101 Firefox/29.0', '\"Mozilla/5.0 (Macintosh; Intel Mac OS X 10_6_8) AppleWebKit/537.36 (KHTML, like Gecko) Chrome/36.0.1985.143 Safari/537.36\"', '\"Mozilla/5.0 (Macintosh; Intel Mac OS X 10_10) AppleWebKit/600.1.3 (KHTML, like Gecko) Version/8.0 Safari/600.1.3\"']"
     ]
    }
   ],
   "source": [
    "# check user agents\n",
    "list(df.groupby('userAgent').count().orderBy(desc('count')).select('userAgent').toPandas()['userAgent'])"
   ]
  },
  {
   "cell_type": "code",
   "execution_count": 35,
   "metadata": {
    "execution": {
     "iopub.execute_input": "2022-01-22T21:50:35.847739Z",
     "iopub.status.busy": "2022-01-22T21:50:35.847327Z",
     "iopub.status.idle": "2022-01-22T21:50:36.395465Z",
     "shell.execute_reply": "2022-01-22T21:50:36.394497Z",
     "shell.execute_reply.started": "2022-01-22T21:50:35.847669Z"
    },
    "tags": []
   },
   "outputs": [
    {
     "data": {
      "application/vnd.jupyter.widget-view+json": {
       "model_id": "ab61f117a4df482295a5e5a1cc6b2cf3",
       "version_major": 2,
       "version_minor": 0
      },
      "text/plain": [
       "VBox()"
      ]
     },
     "metadata": {},
     "output_type": "display_data"
    },
    {
     "data": {
      "application/vnd.jupyter.widget-view+json": {
       "model_id": "",
       "version_major": 2,
       "version_minor": 0
      },
      "text/plain": [
       "FloatProgress(value=0.0, bar_style='info', description='Progress:', layout=Layout(height='25px', width='50%'),…"
      ]
     },
     "metadata": {},
     "output_type": "display_data"
    }
   ],
   "source": [
    "#create user_gent_category\n",
    "user_agent_bukets = ['macintosh', 'windows', 'linux', 'iphone', 'ipad']\n",
    "\n",
    "def  get_useragent(user_agent_str):\n",
    "    try:\n",
    "        for agent in user_agent_bukets:\n",
    "            if agent in user_agent_str.lower():\n",
    "                return agent\n",
    "    except:\n",
    "        pass\n",
    "    \n",
    "    return 'etc'\n",
    "\n",
    "get_agetn_bucket= udf(lambda x: get_useragent(x), StringType())\n",
    "df = df.withColumn(\"useragent_code\", get_agetn_bucket('userAgent'))"
   ]
  },
  {
   "cell_type": "code",
   "execution_count": 41,
   "metadata": {
    "execution": {
     "iopub.execute_input": "2022-01-22T14:38:31.486650Z",
     "iopub.status.busy": "2022-01-22T14:38:31.486408Z",
     "iopub.status.idle": "2022-01-22T14:42:01.435345Z",
     "shell.execute_reply": "2022-01-22T14:42:01.433697Z",
     "shell.execute_reply.started": "2022-01-22T14:38:31.486622Z"
    },
    "tags": []
   },
   "outputs": [
    {
     "data": {
      "application/vnd.jupyter.widget-view+json": {
       "model_id": "678d47367c8f47baa71b258ff5f2b9d9",
       "version_major": 2,
       "version_minor": 0
      },
      "text/plain": [
       "VBox()"
      ]
     },
     "metadata": {},
     "output_type": "display_data"
    },
    {
     "data": {
      "application/vnd.jupyter.widget-view+json": {
       "model_id": "",
       "version_major": 2,
       "version_minor": 0
      },
      "text/plain": [
       "FloatProgress(value=0.0, bar_style='info', description='Progress:', layout=Layout(height='25px', width='50%'),…"
      ]
     },
     "metadata": {},
     "output_type": "display_data"
    }
   ],
   "source": [
    "# useragent churn data\n",
    "useragent_df = df.groupby('useragent_code', 'churn').count().orderBy(desc('count')).toPandas()"
   ]
  },
  {
   "cell_type": "code",
   "execution_count": 42,
   "metadata": {
    "execution": {
     "iopub.execute_input": "2022-01-22T14:42:01.440447Z",
     "iopub.status.busy": "2022-01-22T14:42:01.440103Z",
     "iopub.status.idle": "2022-01-22T14:42:02.031568Z",
     "shell.execute_reply": "2022-01-22T14:42:02.030717Z",
     "shell.execute_reply.started": "2022-01-22T14:42:01.440383Z"
    },
    "tags": []
   },
   "outputs": [
    {
     "data": {
      "application/vnd.jupyter.widget-view+json": {
       "model_id": "8614adf934474e13b454ed14402e2f55",
       "version_major": 2,
       "version_minor": 0
      },
      "text/plain": [
       "VBox()"
      ]
     },
     "metadata": {},
     "output_type": "display_data"
    },
    {
     "data": {
      "application/vnd.jupyter.widget-view+json": {
       "model_id": "",
       "version_major": 2,
       "version_minor": 0
      },
      "text/plain": [
       "FloatProgress(value=0.0, bar_style='info', description='Progress:', layout=Layout(height='25px', width='50%'),…"
      ]
     },
     "metadata": {},
     "output_type": "display_data"
    },
    {
     "data": {
      "image/png": "[encoded data removed]",
      "text/plain": [
       "<IPython.core.display.Image object>"
      ]
     },
     "metadata": {},
     "output_type": "display_data"
    }
   ],
   "source": [
    "#plot chart \n",
    "useragent_df.pivot(index='useragent_code', columns='churn', values='count').plot.bar(stacked=True, title='UserAgent and churn')\n",
    "%matplot plt"
   ]
  },
  {
   "cell_type": "code",
   "execution_count": 43,
   "metadata": {
    "execution": {
     "iopub.execute_input": "2022-01-22T14:42:02.040029Z",
     "iopub.status.busy": "2022-01-22T14:42:02.039427Z",
     "iopub.status.idle": "2022-01-22T14:44:19.466078Z",
     "shell.execute_reply": "2022-01-22T14:44:19.465101Z",
     "shell.execute_reply.started": "2022-01-22T14:42:02.039983Z"
    },
    "tags": []
   },
   "outputs": [
    {
     "data": {
      "application/vnd.jupyter.widget-view+json": {
       "model_id": "63dd21e2f802497489f55ba6f3f37906",
       "version_major": 2,
       "version_minor": 0
      },
      "text/plain": [
       "VBox()"
      ]
     },
     "metadata": {},
     "output_type": "display_data"
    },
    {
     "data": {
      "application/vnd.jupyter.widget-view+json": {
       "model_id": "",
       "version_major": 2,
       "version_minor": 0
      },
      "text/plain": [
       "FloatProgress(value=0.0, bar_style='info', description='Progress:', layout=Layout(height='25px', width='50%'),…"
      ]
     },
     "metadata": {},
     "output_type": "display_data"
    },
    {
     "name": "stdout",
     "output_type": "stream",
     "text": [
      "                         page  churn     count\n",
      "0                    NextSong      0  16463996\n",
      "1                    NextSong      1   4386276\n",
      "2                        Home      0   1145400\n",
      "3                   Thumbs Up      0    926993\n",
      "4             Add to Playlist      0    473265\n",
      "5                  Add Friend      0    301654\n",
      "6                       Login      0    296350\n",
      "7                 Roll Advert      0    284906\n",
      "8                      Logout      0    233305\n",
      "9                   Thumbs Up      1    224472\n",
      "10                       Home      1    197702\n",
      "11                Thumbs Down      0    183556\n",
      "12                  Downgrade      0    140816\n",
      "13                       Help      0    127598\n",
      "14            Add to Playlist      1    124656\n",
      "15                   Settings      0    115357\n",
      "16                Roll Advert      1    100306\n",
      "17                      About      0     82657\n",
      "18                 Add Friend      1     80010\n",
      "19                     Logout      1     62700\n",
      "20                Thumbs Down      1     55656\n",
      "21                  Downgrade      1     43424\n",
      "22                    Upgrade      0     39276\n",
      "23                   Settings      1     31717\n",
      "24                       Help      1     27502\n",
      "25              Save Settings      0     23328\n",
      "26                      Error      0     20632\n",
      "27             Submit Upgrade      0     11448\n",
      "28                    Upgrade      1     11231\n",
      "29                      About      1     10102\n",
      "30              Save Settings      1      6188\n",
      "31                      Error      1      5330\n",
      "32                     Cancel      1      5003\n",
      "33  Cancellation Confirmation      1      5003\n",
      "34           Submit Downgrade      0      4992\n",
      "35             Submit Upgrade      1      3687\n",
      "36           Submit Downgrade      1      1502\n",
      "37                   Register      0       802\n",
      "38        Submit Registration      0       401"
     ]
    }
   ],
   "source": [
    "# page and chuan\n",
    "churn_by_page_df = df.groupby('page', 'churn').count().orderBy(desc('count')).toPandas()\n",
    "churn_by_page_df\n",
    "#page_df.pivot(index='page', columns='churn', values='count').plot.bar(stacked=True, title='Page and churn')"
   ]
  },
  {
   "cell_type": "code",
   "execution_count": 44,
   "metadata": {
    "execution": {
     "iopub.execute_input": "2022-01-22T14:44:19.468026Z",
     "iopub.status.busy": "2022-01-22T14:44:19.467582Z",
     "iopub.status.idle": "2022-01-22T14:44:20.455953Z",
     "shell.execute_reply": "2022-01-22T14:44:20.455025Z",
     "shell.execute_reply.started": "2022-01-22T14:44:19.467985Z"
    },
    "tags": []
   },
   "outputs": [
    {
     "data": {
      "application/vnd.jupyter.widget-view+json": {
       "model_id": "b58750d195b6420892e2fe1c685ad732",
       "version_major": 2,
       "version_minor": 0
      },
      "text/plain": [
       "VBox()"
      ]
     },
     "metadata": {},
     "output_type": "display_data"
    },
    {
     "data": {
      "application/vnd.jupyter.widget-view+json": {
       "model_id": "",
       "version_major": 2,
       "version_minor": 0
      },
      "text/plain": [
       "FloatProgress(value=0.0, bar_style='info', description='Progress:', layout=Layout(height='25px', width='50%'),…"
      ]
     },
     "metadata": {},
     "output_type": "display_data"
    },
    {
     "data": {
      "image/png": "[encoded data removed]",
      "text/plain": [
       "<IPython.core.display.Image object>"
      ]
     },
     "metadata": {},
     "output_type": "display_data"
    }
   ],
   "source": [
    "_tmpdf = churn_by_page_df.pivot(index='page', columns='churn', values='count').fillna(0)\n",
    "_tmpdf['total'] = _tmpdf[0] + _tmpdf[1]\n",
    "_tmpdf['0_per'] = _tmpdf[0] / _tmpdf['total']\n",
    "_tmpdf['1_per'] = _tmpdf[1] / _tmpdf['total']\n",
    "_tmpdf.plot.bar(stacked=True, title='Page and churn (%)', y=['0_per', '1_per'])\n",
    "%matplot plt"
   ]
  },
  {
   "cell_type": "markdown",
   "metadata": {},
   "source": [
    "# Feature Engineering\n",
    "Once you've familiarized yourself with the data, build out the features you find promising to train your model on. To work with the full dataset, you can follow the following steps.\n",
    "- Write a script to extract the necessary features from the smaller subset of data\n",
    "- Ensure that your script is scalable, using the best practices discussed in Lesson 3\n",
    "- Try your script on the full data set, debugging your script if necessary\n",
    "\n",
    "If you are working in the classroom workspace, you can just extract features based on the small subset of data contained here. Be sure to transfer over this work to the larger dataset when you work on your Spark cluster."
   ]
  },
  {
   "cell_type": "markdown",
   "metadata": {},
   "source": [
    "Going to use these values as a future\n",
    "\n",
    "- gender\n",
    "- level\n",
    "- device \n",
    "- total song played\n",
    "- first_ts\n",
    "- last_ts\n",
    "- days from start\n",
    "- free days\n",
    "- payed days\n",
    "- total add friend\n",
    "- total add to playlist\n",
    "- total downgrade\n",
    "- total error\n",
    "- total help\n",
    "- total home\n",
    "- total roll advert\n",
    "- total upgrade\n",
    "- total thumb down\n",
    "- total thumb up\n",
    "- total session\n",
    "- average time between per session\n",
    "- average song played per session\n",
    "- location\n",
    "- device"
   ]
  },
  {
   "cell_type": "code",
   "execution_count": 36,
   "metadata": {
    "execution": {
     "iopub.execute_input": "2022-01-22T21:50:36.398119Z",
     "iopub.status.busy": "2022-01-22T21:50:36.397419Z",
     "iopub.status.idle": "2022-01-22T21:50:36.673268Z",
     "shell.execute_reply": "2022-01-22T21:50:36.672469Z",
     "shell.execute_reply.started": "2022-01-22T21:50:36.398073Z"
    },
    "tags": []
   },
   "outputs": [
    {
     "data": {
      "application/vnd.jupyter.widget-view+json": {
       "model_id": "fcd3092b914445ceb0e097be0e161a62",
       "version_major": 2,
       "version_minor": 0
      },
      "text/plain": [
       "VBox()"
      ]
     },
     "metadata": {},
     "output_type": "display_data"
    },
    {
     "data": {
      "application/vnd.jupyter.widget-view+json": {
       "model_id": "",
       "version_major": 2,
       "version_minor": 0
      },
      "text/plain": [
       "FloatProgress(value=0.0, bar_style='info', description='Progress:', layout=Layout(height='25px', width='50%'),…"
      ]
     },
     "metadata": {},
     "output_type": "display_data"
    }
   ],
   "source": [
    "# create user_feature_matrix functions\n",
    "\n",
    "\n",
    "def creae_churn(df=df):\n",
    "    _df = df.select(['userId', 'churn']).groupby('UserId').agg(F.max('churn').alias('churn'))\n",
    "    return _df\n",
    "\n",
    "def create_downgrade(df=df):\n",
    "    _df = df.select(['userId', 'downgrade']).groupby('userId').agg(F.max('downgrade').alias('downgrade'))\n",
    "    return _df\n",
    "    \n",
    "\n",
    "\n",
    "# create page count \n",
    "def create_page_count(page, df=df):\n",
    "    \"\"\"\n",
    "    Create page count by user DataFrame\n",
    "    :param page: page name string\n",
    "    :param df: SparkDF\n",
    "    :return SparkDF\n",
    "    \"\"\"\n",
    "    _df = df.filter(f\"page=='{page}'\").select(['userId', 'page']).groupby('userId').agg(F.count('page').alias(f'{page}_count'))\n",
    "    return _df\n",
    "\n",
    "# gender\n",
    "def create_gender(df=df):\n",
    "    \"\"\"\n",
    "    Create userId-gender DataFrame\n",
    "    :param df: SparkDF\n",
    "    :return id-gender SparkDF\n",
    "    \"\"\"\n",
    "    _df =  df.select(['userId','gender']).groupby('userId').agg(F.last('gender').alias('gender'))\n",
    "    return _df\n",
    "\n",
    "# level\n",
    "def create_level(df=df):\n",
    "    \"\"\"\n",
    "    Create userId-level DataFrame\n",
    "    :param df: SparkDF\n",
    "    :return id-level SparkDF\n",
    "    \"\"\"\n",
    "    _df = df.select(['userId','level']).groupby('userId').agg(F.last('level').alias('level'))\n",
    "    return _df\n",
    "\n",
    "# song played\n",
    "def create_song_played(df=df):\n",
    "    \"\"\"\n",
    "    Create song played count by user DataFrame\n",
    "    :param df: SparkDF\n",
    "    :return SparkDF\n",
    "    \"\"\"\n",
    "    return create_page_count('NextSong', df)\n",
    "\n",
    "# first_ts\n",
    "def create_first_ts(df=df):\n",
    "    \"\"\"\n",
    "    Create First time by user DataFrame\n",
    "    :param df: SparkDF\n",
    "    :return SparkDF\n",
    "    \"\"\"\n",
    "    _df = df.select(['userId', 'ts']).groupby('userId').agg(F.min('ts').alias('first_ts'))\n",
    "    return _df\n",
    "\n",
    "# last_ts\n",
    "def create_last_ts(df=df):\n",
    "    \"\"\"\n",
    "    Create Last time by user DataFrame\n",
    "    :param df: SparkDF\n",
    "    :return SparkDF\n",
    "    \"\"\"\n",
    "    _df = df.select(['userId', 'ts']).groupby('userId').agg(F.max('ts').alias('last_ts'))\n",
    "    return _df\n",
    "\n",
    "# using days (days from start)\n",
    "def create_days_from_first_to_last(df=df):\n",
    "    \"\"\"\n",
    "    Create days between first use and last use by user DataFrame\n",
    "    :param df: SparkDF\n",
    "    :return SparkDF\n",
    "    \"\"\"\n",
    "    _df = df.select(['userId', 'ts']).groupby('userId').agg(((F.max('ts') - F.min('ts'))/(1000*60*60*24)).alias('user_days'))\n",
    "    return _df\n",
    "    \n",
    "# free days\n",
    "def create_free_days(df=df):\n",
    "    \"\"\"\n",
    "    Create free level days by user DataFrame\n",
    "    :param df: SparkDF\n",
    "    :return SparkDF\n",
    "    \"\"\"\n",
    "    _df = df.select(['userId', 'ts', 'level']).filter(\"level == 'free'\").groupby('userId').agg(((F.max('ts') - F.min('ts'))/(1000*60*60*24)).alias('freeuser_days'))\n",
    "    return _df\n",
    "\n",
    "# payed days\n",
    "def create_paid_days(df=df):\n",
    "    \"\"\"\n",
    "    Create payed level daysby user DataFrame\n",
    "    :param df: SparkDF\n",
    "    :return SparkDF\n",
    "    \"\"\"\n",
    "    _df = df.select(['userId', 'ts', 'level']).filter(\"level == 'paid'\").groupby('userId').agg(((F.max('ts') - F.min('ts'))/(1000*60*60*24)).alias('paiduser_days'))\n",
    "    return _df    \n",
    "\n",
    "# total session\n",
    "def create_session(df=df):\n",
    "    \"\"\"\n",
    "    Create session average by user DataFrame\n",
    "    :param df: SparkDF\n",
    "    :return SparkDF\n",
    "    \"\"\"\n",
    "    _df = df.select(['userId', 'sessionId', 'page']).groupby('userId', 'sessionId').agg(F.count('page').alias('session_count'))\\\n",
    "        .groupby('userId').agg(F.avg('session_count').alias('session_avg'))\n",
    "    return _df\n",
    "\n",
    "# - average time between per session\n",
    "def create_average_time_between_session(df=df):\n",
    "    \"\"\"\n",
    "    Create average time between session sesond by user DataFrame\n",
    "    :param df: SparkDF\n",
    "    :return SparkDF\n",
    "    \"\"\"\n",
    "    _df = df.select(['userId', 'sessionId', 'ts']).groupby('userId', 'sessionId').agg(((F.max('ts') - F.min('ts'))/(1000)).alias('session_ts'))\\\n",
    "       .groupby('userId').agg(F.avg('session_ts').alias('session_ts_avg'))\n",
    "    return _df\n",
    "\n",
    "# - average song played per session\n",
    "def create_avg_songplayed_between_session(df=df):\n",
    "    \"\"\"\n",
    "    Create average song count between session\n",
    "    :param df: SparkDF\n",
    "    :return SparkDF\n",
    "    \"\"\"\n",
    "    _df = df.select(['userId', 'sessionId', 'page']).filter(\"page == 'NextSong'\").groupby('userId', 'sessionId').agg(F.count('page').alias('song_count'))\\\n",
    "        .groupby('userId').agg(F.avg('song_count').alias('song_avg_per_session'))\n",
    "    return _df    \n",
    "\n",
    "# location\n",
    "def create_top_location(df=df):\n",
    "    \"\"\"\n",
    "    Create most common location code by user\n",
    "    :param df: SparkDF\n",
    "    :return SparkDF\n",
    "    \"\"\"\n",
    "#    indexer = StringIndexer(inputCol='location_code', outputCol='location_code_cat')\n",
    "        \n",
    "    _df = df.withColumn(\"location_code\", get_location_chr('location'))\n",
    "    _df = df.select(['userId', 'location_code']).groupby('userId', 'location_code').agg(F.count('location_code').alias('location_code_count'))\\\n",
    "        .orderBy(desc('location_code_count')).groupby('userId').agg(F.first('location_code').alias('location_code'))\n",
    "        \n",
    "    return _df\n",
    "\n",
    "# device\n",
    "def create_top_device(df=df):\n",
    "    \"\"\"\n",
    "    Create most common device code by user\n",
    "    :param df: SparkDF\n",
    "    :return SparkDF\n",
    "    \"\"\"\n",
    "#     indexer = StringIndexer(inputCol='useragent_code', outputCol='useragent_code_cat')\n",
    "    \n",
    "    _df = df.withColumn(\"useragent_code\", get_agetn_bucket('userAgent'))\n",
    "    _df = _df.select(['userId', 'useragent_code']).groupby('userId', 'useragent_code').agg(F.count('useragent_code').alias('useragent_code_count'))\\\n",
    "        .orderBy(desc('useragent_code_count')).groupby('userId').agg(F.first('useragent_code').alias('useragent_code'))\n",
    "    return _df\n",
    "    \n",
    "\n",
    "## test \n",
    "#create_gender().show()\n",
    "#create_level().show()\n",
    "#create_song_played().show()\n",
    "#create_first_ts().show()\n",
    "#create_days_from_first_to_last().show()\n",
    "#create_free_days().show()\n",
    "#create_paid_days().show()\n",
    "#create_session().show()\n",
    "#create_average_time_between_session().show()\n",
    "#create_avg_songplayed_between_session().show()\n",
    "#create_top_location().show()\n",
    "#create_top_device().show()\n",
    "\n",
    "#creae_churn().show()\n",
    "#create_downgrade().show()"
   ]
  },
  {
   "cell_type": "code",
   "execution_count": 37,
   "metadata": {
    "execution": {
     "iopub.execute_input": "2022-01-22T21:50:36.733721Z",
     "iopub.status.busy": "2022-01-22T21:50:36.733128Z",
     "iopub.status.idle": "2022-01-22T21:50:37.254591Z",
     "shell.execute_reply": "2022-01-22T21:50:37.253821Z",
     "shell.execute_reply.started": "2022-01-22T21:50:36.733677Z"
    },
    "tags": []
   },
   "outputs": [
    {
     "data": {
      "application/vnd.jupyter.widget-view+json": {
       "model_id": "12fe3da65d544656b70946dab35c05f8",
       "version_major": 2,
       "version_minor": 0
      },
      "text/plain": [
       "VBox()"
      ]
     },
     "metadata": {},
     "output_type": "display_data"
    },
    {
     "data": {
      "application/vnd.jupyter.widget-view+json": {
       "model_id": "",
       "version_major": 2,
       "version_minor": 0
      },
      "text/plain": [
       "FloatProgress(value=0.0, bar_style='info', description='Progress:', layout=Layout(height='25px', width='50%'),…"
      ]
     },
     "metadata": {},
     "output_type": "display_data"
    }
   ],
   "source": [
    "# run separately for debug "
   ]
  },
  {
   "cell_type": "code",
   "execution_count": 38,
   "metadata": {
    "execution": {
     "iopub.execute_input": "2022-01-22T21:50:37.256642Z",
     "iopub.status.busy": "2022-01-22T21:50:37.256220Z",
     "iopub.status.idle": "2022-01-22T21:50:37.654132Z",
     "shell.execute_reply": "2022-01-22T21:50:37.653403Z",
     "shell.execute_reply.started": "2022-01-22T21:50:37.256601Z"
    },
    "tags": []
   },
   "outputs": [
    {
     "data": {
      "application/vnd.jupyter.widget-view+json": {
       "model_id": "7f9ab2f7cb494eb892cd143ccf778270",
       "version_major": 2,
       "version_minor": 0
      },
      "text/plain": [
       "VBox()"
      ]
     },
     "metadata": {},
     "output_type": "display_data"
    },
    {
     "data": {
      "application/vnd.jupyter.widget-view+json": {
       "model_id": "",
       "version_major": 2,
       "version_minor": 0
      },
      "text/plain": [
       "FloatProgress(value=0.0, bar_style='info', description='Progress:', layout=Layout(height='25px', width='50%'),…"
      ]
     },
     "metadata": {},
     "output_type": "display_data"
    }
   ],
   "source": [
    "_gender_df =  create_gender()"
   ]
  },
  {
   "cell_type": "code",
   "execution_count": 39,
   "metadata": {
    "execution": {
     "iopub.execute_input": "2022-01-22T21:50:37.655875Z",
     "iopub.status.busy": "2022-01-22T21:50:37.655253Z",
     "iopub.status.idle": "2022-01-22T21:50:38.034694Z",
     "shell.execute_reply": "2022-01-22T21:50:38.033774Z",
     "shell.execute_reply.started": "2022-01-22T21:50:37.655829Z"
    },
    "tags": []
   },
   "outputs": [
    {
     "data": {
      "application/vnd.jupyter.widget-view+json": {
       "model_id": "4ee8971935154d44aa8b6cd9a5f168d5",
       "version_major": 2,
       "version_minor": 0
      },
      "text/plain": [
       "VBox()"
      ]
     },
     "metadata": {},
     "output_type": "display_data"
    },
    {
     "data": {
      "application/vnd.jupyter.widget-view+json": {
       "model_id": "",
       "version_major": 2,
       "version_minor": 0
      },
      "text/plain": [
       "FloatProgress(value=0.0, bar_style='info', description='Progress:', layout=Layout(height='25px', width='50%'),…"
      ]
     },
     "metadata": {},
     "output_type": "display_data"
    }
   ],
   "source": [
    "_level_df = create_level()"
   ]
  },
  {
   "cell_type": "code",
   "execution_count": 40,
   "metadata": {
    "execution": {
     "iopub.execute_input": "2022-01-22T21:50:38.036395Z",
     "iopub.status.busy": "2022-01-22T21:50:38.036132Z",
     "iopub.status.idle": "2022-01-22T21:50:39.092890Z",
     "shell.execute_reply": "2022-01-22T21:50:39.091994Z",
     "shell.execute_reply.started": "2022-01-22T21:50:38.036357Z"
    },
    "tags": []
   },
   "outputs": [
    {
     "data": {
      "application/vnd.jupyter.widget-view+json": {
       "model_id": "f9cc3aeebc4042bcb0504ef79a5bb660",
       "version_major": 2,
       "version_minor": 0
      },
      "text/plain": [
       "VBox()"
      ]
     },
     "metadata": {},
     "output_type": "display_data"
    },
    {
     "data": {
      "application/vnd.jupyter.widget-view+json": {
       "model_id": "",
       "version_major": 2,
       "version_minor": 0
      },
      "text/plain": [
       "FloatProgress(value=0.0, bar_style='info', description='Progress:', layout=Layout(height='25px', width='50%'),…"
      ]
     },
     "metadata": {},
     "output_type": "display_data"
    }
   ],
   "source": [
    "_song_df = create_song_played()"
   ]
  },
  {
   "cell_type": "code",
   "execution_count": 41,
   "metadata": {
    "execution": {
     "iopub.execute_input": "2022-01-22T21:50:39.094268Z",
     "iopub.status.busy": "2022-01-22T21:50:39.094060Z",
     "iopub.status.idle": "2022-01-22T21:50:39.606986Z",
     "shell.execute_reply": "2022-01-22T21:50:39.604353Z",
     "shell.execute_reply.started": "2022-01-22T21:50:39.094241Z"
    },
    "tags": []
   },
   "outputs": [
    {
     "data": {
      "application/vnd.jupyter.widget-view+json": {
       "model_id": "ca7885053afa4a0b82a5a865899002c2",
       "version_major": 2,
       "version_minor": 0
      },
      "text/plain": [
       "VBox()"
      ]
     },
     "metadata": {},
     "output_type": "display_data"
    },
    {
     "data": {
      "application/vnd.jupyter.widget-view+json": {
       "model_id": "",
       "version_major": 2,
       "version_minor": 0
      },
      "text/plain": [
       "FloatProgress(value=0.0, bar_style='info', description='Progress:', layout=Layout(height='25px', width='50%'),…"
      ]
     },
     "metadata": {},
     "output_type": "display_data"
    }
   ],
   "source": [
    "_firstts_df = create_first_ts()"
   ]
  },
  {
   "cell_type": "code",
   "execution_count": 42,
   "metadata": {
    "execution": {
     "iopub.execute_input": "2022-01-22T21:50:39.610648Z",
     "iopub.status.busy": "2022-01-22T21:50:39.610345Z",
     "iopub.status.idle": "2022-01-22T21:50:39.969318Z",
     "shell.execute_reply": "2022-01-22T21:50:39.968606Z",
     "shell.execute_reply.started": "2022-01-22T21:50:39.610604Z"
    },
    "tags": []
   },
   "outputs": [
    {
     "data": {
      "application/vnd.jupyter.widget-view+json": {
       "model_id": "bba85db0bcfe417e883d97f40d2a445f",
       "version_major": 2,
       "version_minor": 0
      },
      "text/plain": [
       "VBox()"
      ]
     },
     "metadata": {},
     "output_type": "display_data"
    },
    {
     "data": {
      "application/vnd.jupyter.widget-view+json": {
       "model_id": "",
       "version_major": 2,
       "version_minor": 0
      },
      "text/plain": [
       "FloatProgress(value=0.0, bar_style='info', description='Progress:', layout=Layout(height='25px', width='50%'),…"
      ]
     },
     "metadata": {},
     "output_type": "display_data"
    }
   ],
   "source": [
    "_lastts_df = create_last_ts()"
   ]
  },
  {
   "cell_type": "code",
   "execution_count": 43,
   "metadata": {
    "execution": {
     "iopub.execute_input": "2022-01-22T21:50:39.970933Z",
     "iopub.status.busy": "2022-01-22T21:50:39.970475Z",
     "iopub.status.idle": "2022-01-22T21:50:40.574219Z",
     "shell.execute_reply": "2022-01-22T21:50:40.573488Z",
     "shell.execute_reply.started": "2022-01-22T21:50:39.970891Z"
    },
    "tags": []
   },
   "outputs": [
    {
     "data": {
      "application/vnd.jupyter.widget-view+json": {
       "model_id": "6a452b13b8db43e1ba89aa73163bc42d",
       "version_major": 2,
       "version_minor": 0
      },
      "text/plain": [
       "VBox()"
      ]
     },
     "metadata": {},
     "output_type": "display_data"
    },
    {
     "data": {
      "application/vnd.jupyter.widget-view+json": {
       "model_id": "",
       "version_major": 2,
       "version_minor": 0
      },
      "text/plain": [
       "FloatProgress(value=0.0, bar_style='info', description='Progress:', layout=Layout(height='25px', width='50%'),…"
      ]
     },
     "metadata": {},
     "output_type": "display_data"
    }
   ],
   "source": [
    "_fl_days_df = create_days_from_first_to_last()"
   ]
  },
  {
   "cell_type": "code",
   "execution_count": 44,
   "metadata": {
    "execution": {
     "iopub.execute_input": "2022-01-22T21:50:40.575816Z",
     "iopub.status.busy": "2022-01-22T21:50:40.575543Z",
     "iopub.status.idle": "2022-01-22T21:50:41.088670Z",
     "shell.execute_reply": "2022-01-22T21:50:41.087983Z",
     "shell.execute_reply.started": "2022-01-22T21:50:40.575779Z"
    },
    "tags": []
   },
   "outputs": [
    {
     "data": {
      "application/vnd.jupyter.widget-view+json": {
       "model_id": "4faeb2dcd00d4118930b69fc87c126ec",
       "version_major": 2,
       "version_minor": 0
      },
      "text/plain": [
       "VBox()"
      ]
     },
     "metadata": {},
     "output_type": "display_data"
    },
    {
     "data": {
      "application/vnd.jupyter.widget-view+json": {
       "model_id": "",
       "version_major": 2,
       "version_minor": 0
      },
      "text/plain": [
       "FloatProgress(value=0.0, bar_style='info', description='Progress:', layout=Layout(height='25px', width='50%'),…"
      ]
     },
     "metadata": {},
     "output_type": "display_data"
    }
   ],
   "source": [
    "_freedays_df = create_free_days()"
   ]
  },
  {
   "cell_type": "code",
   "execution_count": 45,
   "metadata": {
    "execution": {
     "iopub.execute_input": "2022-01-22T21:50:41.096750Z",
     "iopub.status.busy": "2022-01-22T21:50:41.095412Z",
     "iopub.status.idle": "2022-01-22T21:50:41.356116Z",
     "shell.execute_reply": "2022-01-22T21:50:41.355243Z",
     "shell.execute_reply.started": "2022-01-22T21:50:41.096562Z"
    },
    "tags": []
   },
   "outputs": [
    {
     "data": {
      "application/vnd.jupyter.widget-view+json": {
       "model_id": "de7eca19c86d438bb92c6d4023cd2682",
       "version_major": 2,
       "version_minor": 0
      },
      "text/plain": [
       "VBox()"
      ]
     },
     "metadata": {},
     "output_type": "display_data"
    },
    {
     "data": {
      "application/vnd.jupyter.widget-view+json": {
       "model_id": "",
       "version_major": 2,
       "version_minor": 0
      },
      "text/plain": [
       "FloatProgress(value=0.0, bar_style='info', description='Progress:', layout=Layout(height='25px', width='50%'),…"
      ]
     },
     "metadata": {},
     "output_type": "display_data"
    }
   ],
   "source": [
    "_paiddays_df = create_paid_days()"
   ]
  },
  {
   "cell_type": "code",
   "execution_count": 46,
   "metadata": {
    "execution": {
     "iopub.execute_input": "2022-01-22T21:50:41.358654Z",
     "iopub.status.busy": "2022-01-22T21:50:41.357831Z",
     "iopub.status.idle": "2022-01-22T21:50:41.965973Z",
     "shell.execute_reply": "2022-01-22T21:50:41.965275Z",
     "shell.execute_reply.started": "2022-01-22T21:50:41.358612Z"
    },
    "tags": []
   },
   "outputs": [
    {
     "data": {
      "application/vnd.jupyter.widget-view+json": {
       "model_id": "94e5c9142d5e47e388450551e34c22b2",
       "version_major": 2,
       "version_minor": 0
      },
      "text/plain": [
       "VBox()"
      ]
     },
     "metadata": {},
     "output_type": "display_data"
    },
    {
     "data": {
      "application/vnd.jupyter.widget-view+json": {
       "model_id": "",
       "version_major": 2,
       "version_minor": 0
      },
      "text/plain": [
       "FloatProgress(value=0.0, bar_style='info', description='Progress:', layout=Layout(height='25px', width='50%'),…"
      ]
     },
     "metadata": {},
     "output_type": "display_data"
    }
   ],
   "source": [
    "_session_df = create_session()"
   ]
  },
  {
   "cell_type": "code",
   "execution_count": 47,
   "metadata": {
    "execution": {
     "iopub.execute_input": "2022-01-22T21:50:41.969859Z",
     "iopub.status.busy": "2022-01-22T21:50:41.969659Z",
     "iopub.status.idle": "2022-01-22T21:50:42.488751Z",
     "shell.execute_reply": "2022-01-22T21:50:42.487837Z",
     "shell.execute_reply.started": "2022-01-22T21:50:41.969833Z"
    },
    "tags": []
   },
   "outputs": [
    {
     "data": {
      "application/vnd.jupyter.widget-view+json": {
       "model_id": "1c4b02b1207c47449fed1969fc3e8fc2",
       "version_major": 2,
       "version_minor": 0
      },
      "text/plain": [
       "VBox()"
      ]
     },
     "metadata": {},
     "output_type": "display_data"
    },
    {
     "data": {
      "application/vnd.jupyter.widget-view+json": {
       "model_id": "",
       "version_major": 2,
       "version_minor": 0
      },
      "text/plain": [
       "FloatProgress(value=0.0, bar_style='info', description='Progress:', layout=Layout(height='25px', width='50%'),…"
      ]
     },
     "metadata": {},
     "output_type": "display_data"
    }
   ],
   "source": [
    "_avgtime_df = create_average_time_between_session()"
   ]
  },
  {
   "cell_type": "code",
   "execution_count": 48,
   "metadata": {
    "execution": {
     "iopub.execute_input": "2022-01-22T21:50:42.490829Z",
     "iopub.status.busy": "2022-01-22T21:50:42.490192Z",
     "iopub.status.idle": "2022-01-22T21:50:43.007234Z",
     "shell.execute_reply": "2022-01-22T21:50:43.006305Z",
     "shell.execute_reply.started": "2022-01-22T21:50:42.490787Z"
    },
    "tags": []
   },
   "outputs": [
    {
     "data": {
      "application/vnd.jupyter.widget-view+json": {
       "model_id": "f81495f6f3334bdba664c6c155e1004f",
       "version_major": 2,
       "version_minor": 0
      },
      "text/plain": [
       "VBox()"
      ]
     },
     "metadata": {},
     "output_type": "display_data"
    },
    {
     "data": {
      "application/vnd.jupyter.widget-view+json": {
       "model_id": "",
       "version_major": 2,
       "version_minor": 0
      },
      "text/plain": [
       "FloatProgress(value=0.0, bar_style='info', description='Progress:', layout=Layout(height='25px', width='50%'),…"
      ]
     },
     "metadata": {},
     "output_type": "display_data"
    }
   ],
   "source": [
    "_avgsong_df = create_avg_songplayed_between_session()"
   ]
  },
  {
   "cell_type": "code",
   "execution_count": 49,
   "metadata": {
    "execution": {
     "iopub.execute_input": "2022-01-22T21:50:43.018358Z",
     "iopub.status.busy": "2022-01-22T21:50:43.011644Z",
     "iopub.status.idle": "2022-01-22T21:50:43.563015Z",
     "shell.execute_reply": "2022-01-22T21:50:43.562184Z",
     "shell.execute_reply.started": "2022-01-22T21:50:43.018305Z"
    },
    "tags": []
   },
   "outputs": [
    {
     "data": {
      "application/vnd.jupyter.widget-view+json": {
       "model_id": "6aaffc65671a44fa939ee5f0f203bf51",
       "version_major": 2,
       "version_minor": 0
      },
      "text/plain": [
       "VBox()"
      ]
     },
     "metadata": {},
     "output_type": "display_data"
    },
    {
     "data": {
      "application/vnd.jupyter.widget-view+json": {
       "model_id": "",
       "version_major": 2,
       "version_minor": 0
      },
      "text/plain": [
       "FloatProgress(value=0.0, bar_style='info', description='Progress:', layout=Layout(height='25px', width='50%'),…"
      ]
     },
     "metadata": {},
     "output_type": "display_data"
    }
   ],
   "source": [
    "_toplocation_df = create_top_location()"
   ]
  },
  {
   "cell_type": "code",
   "execution_count": 50,
   "metadata": {
    "execution": {
     "iopub.execute_input": "2022-01-22T21:50:43.564740Z",
     "iopub.status.busy": "2022-01-22T21:50:43.564478Z",
     "iopub.status.idle": "2022-01-22T21:50:44.084720Z",
     "shell.execute_reply": "2022-01-22T21:50:44.083872Z",
     "shell.execute_reply.started": "2022-01-22T21:50:43.564701Z"
    },
    "tags": []
   },
   "outputs": [
    {
     "data": {
      "application/vnd.jupyter.widget-view+json": {
       "model_id": "4036b44178b34a45a26a24f2cc30d80e",
       "version_major": 2,
       "version_minor": 0
      },
      "text/plain": [
       "VBox()"
      ]
     },
     "metadata": {},
     "output_type": "display_data"
    },
    {
     "data": {
      "application/vnd.jupyter.widget-view+json": {
       "model_id": "",
       "version_major": 2,
       "version_minor": 0
      },
      "text/plain": [
       "FloatProgress(value=0.0, bar_style='info', description='Progress:', layout=Layout(height='25px', width='50%'),…"
      ]
     },
     "metadata": {},
     "output_type": "display_data"
    }
   ],
   "source": [
    "_topdevice_df = create_top_device()"
   ]
  },
  {
   "cell_type": "code",
   "execution_count": null,
   "metadata": {},
   "outputs": [],
   "source": []
  },
  {
   "cell_type": "code",
   "execution_count": 51,
   "metadata": {
    "execution": {
     "iopub.execute_input": "2022-01-22T21:50:44.086594Z",
     "iopub.status.busy": "2022-01-22T21:50:44.086322Z",
     "iopub.status.idle": "2022-01-22T22:28:35.796905Z",
     "shell.execute_reply": "2022-01-22T22:28:35.796088Z",
     "shell.execute_reply.started": "2022-01-22T21:50:44.086554Z"
    },
    "tags": []
   },
   "outputs": [
    {
     "data": {
      "application/vnd.jupyter.widget-view+json": {
       "model_id": "7dbca901bb8944c4ae102cbba9f36fed",
       "version_major": 2,
       "version_minor": 0
      },
      "text/plain": [
       "VBox()"
      ]
     },
     "metadata": {},
     "output_type": "display_data"
    },
    {
     "data": {
      "application/vnd.jupyter.widget-view+json": {
       "model_id": "",
       "version_major": 2,
       "version_minor": 0
      },
      "text/plain": [
       "FloatProgress(value=0.0, bar_style='info', description='Progress:', layout=Layout(height='25px', width='50%'),…"
      ]
     },
     "metadata": {},
     "output_type": "display_data"
    },
    {
     "name": "stdout",
     "output_type": "stream",
     "text": [
      "+-------+------+-----+--------------+-------------+-------------+------------------+-------------------+------------------+------------------+------------------+--------------------+-----+---------+---------------+----------+---------------------+----------------+-----------------+-----------------+---------------+----------+-------------+-------------+--------------+\n",
      "| userId|gender|level|NextSong_count|     first_ts|      last_ts|         user_days|      freeuser_days|     paiduser_days|       session_avg|    session_ts_avg|song_avg_per_session|churn|downgrade|Thumbs Up_count|Home_count|Add to Playlist_count|Add Friend_count|Roll Advert_count|Thumbs Down_count|Downgrade_count|Help_count|Upgrade_count|location_code|useragent_code|\n",
      "+-------+------+-----+--------------+-------------+-------------+------------------+-------------------+------------------+------------------+------------------+--------------------+-----+---------+---------------+----------+---------------------+----------------+-----------------+-----------------+---------------+----------+-------------+-------------+--------------+\n",
      "|1000280|     M| free|          1022|1538428238000|1542149985000|43.075775462962966| 43.075775462962966|0.6992939814814815| 59.86363636363637|11694.363636363636|  48.666666666666664|    1|        1|             53|        44|                   25|              14|               74|               33|              3|         8|            9|           OH|       windows|\n",
      "|1002185|     F| paid|          1778|1538434068000|1543442894000| 57.97252314814815|                0.0| 57.97252314814815| 122.3529411764706|26084.352941176472|  104.58823529411765|    0|        1|             92|        61|                   49|              25|                1|               14|             14|        12|            0|        MA-NH|       windows|\n",
      "|1017805|     F| paid|           250|1538486444000|1540618171000|24.672766203703702|                0.0|24.672766203703702|106.66666666666667|21136.666666666668|   83.33333333333333|    0|        1|              7|        17|                    5|              13|                6|                4|              5|         1|            0|        GA-SC|     macintosh|\n",
      "|1030587|     F| paid|          1472|1539284254000|1543535376000| 49.20280092592593|  4.954745370370371| 44.24803240740741|159.27272727272728| 32943.63636363636|  163.55555555555554|    0|        1|             66|        65|                   46|              23|                0|               16|             15|        10|            1|           ID|       windows|\n",
      "|1033297|     M| paid|           236|1540428946000|1543290688000| 33.12201388888889| 32.659050925925925|0.4621064814814815|              59.8|           11821.0|                47.2|    0|        1|             10|        15|                    7|               4|               10|                3|              1|         2|            2|           IL|       windows|\n",
      "|1057724|     M| paid|          3847|1538420544000|1543460202000|         58.329375| 23.681226851851854| 34.64737268518518|           116.725|         23844.775|   98.64102564102564|    0|        1|            200|       164|                  135|              76|               67|               29|             33|        19|            7|     NY-NJ-PA|     macintosh|\n",
      "|1059049|     M| paid|           559|1539653488000|1542884175000| 37.39221064814815|                0.0| 37.39221064814815|             132.4|           28119.6|  186.33333333333334|    0|        1|             29|        20|                   16|              10|                5|                6|              3|         4|            0|           CA|       windows|\n",
      "|1069552|     F| free|           455|1538580957000|1543412490000|55.920520833333335| 55.920520833333335| 9.430671296296296|              48.5| 9298.416666666666|  37.916666666666664|    0|        1|             26|        25|                   11|               7|               30|                6|              1|         4|            2|           CA|       windows|\n",
      "|1071308|     F| paid|          1409|1538494164000|1541817384000| 38.46319444444445|0.12001157407407408| 38.34310185185185| 94.05555555555556|19334.944444444445|   82.88235294117646|    1|        1|             74|        67|                   26|              31|                2|               12|             18|         8|            1|           WI|       windows|\n",
      "|1076191|     M| free|            47|1539102217000|1539782708000| 7.876053240740741|  7.876053240740741|               0.0|21.333333333333332| 5188.333333333333|  15.666666666666666|    1|        0|              4|         3|                    1|               0|                5|                1|              0|         0|            0|           CA|       windows|\n",
      "|1083324|     M| paid|          1484|1538378829000|1543503054000| 59.30815972222222|  57.24469907407408| 59.24854166666667|              89.2|          18040.55|   82.44444444444444|    0|        1|             75|        73|                   43|              26|                5|               11|             17|         7|            2|           FL|        iphone|\n",
      "|1102913|     M| paid|           753|1538716065000|1543553176000| 55.98508101851852|                0.0| 55.98508101851852| 82.18181818181819|16798.545454545456|                75.3|    0|        1|             38|        29|                   23|              18|                0|                9|              9|         7|            0|     NY-NJ-PA|       windows|\n",
      "|1114507|     F| paid|           848|1538407758000|1543566410000| 59.70662037037037| 15.819791666666667| 43.88678240740741| 80.38461538461539|15682.846153846154|   65.23076923076923|    0|        1|             47|        50|                   13|              19|               13|               11|             10|         6|            1|           CA|       windows|\n",
      "|1133196|     F| paid|           731|1538673114000|1543095139000|51.180844907407405|  47.38803240740741|        32.0759375| 67.07142857142857| 12703.07142857143|   56.23076923076923|    0|        1|             70|        41|                   24|              10|               22|                6|              7|         2|            6|           TX|       windows|\n",
      "|1142513|     M| free|           480|1538482083000|1543400625000|56.927569444444444| 56.927569444444444|               0.0|              61.8|           12046.2|                48.0|    0|        0|             22|        18|                   19|              16|               36|                4|              0|         4|            4|     TN-MS-AR|       windows|\n",
      "|1151194|     F| paid|          1302|1538692598000|1543592156000| 56.70784722222222|  41.04024305555556|15.667511574074075|           98.5625|           19898.0|              81.375|    0|        1|             60|        50|                   37|              27|               28|               14|             11|        11|            3|        TN-GA|       windows|\n",
      "|1156065|     M| free|           231|1538361743000|1539790450000|16.535960648148148| 16.535960648148148|               0.0|29.818181818181817| 4872.090909090909|  25.666666666666668|    1|        0|             10|        17|                    2|               2|               43|                4|              0|         3|            3|           UT|     macintosh|\n",
      "|1178731|     F| paid|          2663|1538354059000|1543604099000| 60.76435185185185|                0.0| 60.76435185185185| 137.6086956521739|33419.565217391304|  115.78260869565217|    0|        1|            147|       100|                   84|              35|                7|               27|             23|        21|            0|     NY-NJ-PA|       windows|\n",
      "|1180406|     M| free|           552|1538740469000|1543591669000|56.148148148148145| 48.685196759259256|7.4627083333333335| 75.44444444444444|15563.555555555555|  61.333333333333336|    0|        1|             23|        21|                   19|               7|               24|                6|              5|         4|            1|           MI|       windows|\n",
      "|1190352|     M| paid|          2216|1538445092000|1543378788000| 57.10296296296296|                0.0| 57.10296296296296|100.84615384615384|21268.384615384617|               88.64|    0|        1|            113|        76|                   63|              40|                1|               28|             23|        12|            0|        TN-GA|       windows|\n",
      "+-------+------+-----+--------------+-------------+-------------+------------------+-------------------+------------------+------------------+------------------+--------------------+-----+---------+---------------+----------+---------------------+----------------+-----------------+-----------------+---------------+----------+-------------+-------------+--------------+\n",
      "only showing top 20 rows"
     ]
    }
   ],
   "source": [
    "# create combined user-feature matrix\n",
    "user_feature_df = _gender_df\\\n",
    "    .join(_level_df, on='userId', how='left')\\\n",
    "    .join(_song_df, on='userId', how='left')\\\n",
    "    .join(_firstts_df , on='userId', how='left')\\\n",
    "    .join(_lastts_df, on='userId', how='left')\\\n",
    "    .join(_fl_days_df, on='userId', how='left')\\\n",
    "    .join(_freedays_df, on='userId', how='left')\\\n",
    "    .join(_paiddays_df, on='userId', how='left')\\\n",
    "    .join(_session_df, on='userId', how='left')\\\n",
    "    .join(_avgtime_df, on='userId', how='left')\\\n",
    "    .join(_avgsong_df, on='userId', how='left')\\\n",
    "    .join(creae_churn(), on='userId', how='left')\\\n",
    "    .join(create_downgrade(), on='userId', how='left')\\\n",
    "    .join(create_page_count('Thumbs Up'), on='userId', how='left')\\\n",
    "    .join(create_page_count('Home'), on='userId', how='left')\\\n",
    "    .join(create_page_count('Add to Playlist'), on='userId', how='left')\\\n",
    "    .join(create_page_count('Add Friend'), on='userId', how='left')\\\n",
    "    .join(create_page_count('Roll Advert'), on='userId', how='left')\\\n",
    "    .join(create_page_count('Thumbs Down'), on='userId', how='left')\\\n",
    "    .join(create_page_count('Downgrade'), on='userId', how='left')\\\n",
    "    .join(create_page_count('Help'), on='userId', how='left')\\\n",
    "    .join(create_page_count('Upgrade'), on='userId', how='left')\\\n",
    "    .join(_toplocation_df, on='userId', how='left')\\\n",
    "    .join(_topdevice_df, on='userId', how='left')\n",
    "\n",
    "user_feature_df = user_feature_df.fillna(0)\n",
    "\n",
    "user_feature_df.show()"
   ]
  },
  {
   "cell_type": "code",
   "execution_count": null,
   "metadata": {
    "execution": {
     "iopub.status.busy": "2022-01-22T21:36:45.298431Z",
     "iopub.status.idle": "2022-01-22T21:36:45.298961Z",
     "shell.execute_reply": "2022-01-22T21:36:45.298774Z"
    },
    "tags": []
   },
   "outputs": [],
   "source": [
    "# display corr heatmap\n",
    "# user_feature_pandas_df = user_feature_df.toPandas()\n",
    "# corr = user_feature_pandas_df.corr()"
   ]
  },
  {
   "cell_type": "code",
   "execution_count": 108,
   "metadata": {
    "execution": {
     "iopub.execute_input": "2022-01-22T16:07:23.343153Z",
     "iopub.status.busy": "2022-01-22T16:07:23.342890Z",
     "iopub.status.idle": "2022-01-22T16:07:24.884424Z",
     "shell.execute_reply": "2022-01-22T16:07:24.883620Z",
     "shell.execute_reply.started": "2022-01-22T16:07:23.343116Z"
    },
    "tags": []
   },
   "outputs": [
    {
     "data": {
      "application/vnd.jupyter.widget-view+json": {
       "model_id": "66035f5e4e9446e58d199c7b5e520b71",
       "version_major": 2,
       "version_minor": 0
      },
      "text/plain": [
       "VBox()"
      ]
     },
     "metadata": {},
     "output_type": "display_data"
    },
    {
     "data": {
      "application/vnd.jupyter.widget-view+json": {
       "model_id": "",
       "version_major": 2,
       "version_minor": 0
      },
      "text/plain": [
       "FloatProgress(value=0.0, bar_style='info', description='Progress:', layout=Layout(height='25px', width='50%'),…"
      ]
     },
     "metadata": {},
     "output_type": "display_data"
    },
    {
     "data": {
      "image/png": "[encoded data removed]",
      "text/plain": [
       "<IPython.core.display.Image object>"
      ]
     },
     "metadata": {},
     "output_type": "display_data"
    }
   ],
   "source": [
    "# sns.set(rc = {'figure.figsize':(15, 10)})\n",
    "# sns.heatmap(corr, xticklabels=corr.columns, yticklabels=corr.columns, cmap=\"PiYG\")\n",
    "# %matplot plt"
   ]
  },
  {
   "cell_type": "code",
   "execution_count": 109,
   "metadata": {
    "execution": {
     "iopub.execute_input": "2022-01-22T16:07:24.887945Z",
     "iopub.status.busy": "2022-01-22T16:07:24.887746Z",
     "iopub.status.idle": "2022-01-22T16:07:28.512134Z",
     "shell.execute_reply": "2022-01-22T16:07:28.508773Z",
     "shell.execute_reply.started": "2022-01-22T16:07:24.887921Z"
    },
    "tags": []
   },
   "outputs": [
    {
     "data": {
      "application/vnd.jupyter.widget-view+json": {
       "model_id": "29c7f122ad124f9780025f8001e5b5d5",
       "version_major": 2,
       "version_minor": 0
      },
      "text/plain": [
       "VBox()"
      ]
     },
     "metadata": {},
     "output_type": "display_data"
    },
    {
     "data": {
      "application/vnd.jupyter.widget-view+json": {
       "model_id": "",
       "version_major": 2,
       "version_minor": 0
      },
      "text/plain": [
       "FloatProgress(value=0.0, bar_style='info', description='Progress:', layout=Layout(height='25px', width='50%'),…"
      ]
     },
     "metadata": {},
     "output_type": "display_data"
    },
    {
     "data": {
      "image/png": "[encoded data removed]",
      "text/plain": [
       "<IPython.core.display.Image object>"
      ]
     },
     "metadata": {},
     "output_type": "display_data"
    }
   ],
   "source": [
    "# fig = plt.figure(figsize=(25,25))\n",
    "# ax = fig.gca()\n",
    "# h = user_feature_pandas_df.hist(ax=ax)\n",
    "# %matplot plt"
   ]
  },
  {
   "cell_type": "markdown",
   "metadata": {},
   "source": [
    "# Modeling\n",
    "Split the full dataset into train, test, and validation sets. Test out several of the machine learning methods you learned. Evaluate the accuracy of the various models, tuning parameters as necessary. Determine your winning model based on test accuracy and report results on the validation set. Since the churned users are a fairly small subset, I suggest using F1 score as the metric to optimize."
   ]
  },
  {
   "cell_type": "code",
   "execution_count": 52,
   "metadata": {
    "execution": {
     "iopub.execute_input": "2022-01-22T22:28:35.798959Z",
     "iopub.status.busy": "2022-01-22T22:28:35.798173Z",
     "iopub.status.idle": "2022-01-22T22:28:36.071577Z",
     "shell.execute_reply": "2022-01-22T22:28:36.070572Z",
     "shell.execute_reply.started": "2022-01-22T22:28:35.798898Z"
    },
    "tags": []
   },
   "outputs": [
    {
     "data": {
      "application/vnd.jupyter.widget-view+json": {
       "model_id": "7043c474144141ecad889869edb87032",
       "version_major": 2,
       "version_minor": 0
      },
      "text/plain": [
       "VBox()"
      ]
     },
     "metadata": {},
     "output_type": "display_data"
    },
    {
     "data": {
      "application/vnd.jupyter.widget-view+json": {
       "model_id": "",
       "version_major": 2,
       "version_minor": 0
      },
      "text/plain": [
       "FloatProgress(value=0.0, bar_style='info', description='Progress:', layout=Layout(height='25px', width='50%'),…"
      ]
     },
     "metadata": {},
     "output_type": "display_data"
    }
   ],
   "source": [
    "from pyspark.ml.evaluation import MulticlassClassificationEvaluator\n",
    "from pyspark.ml.feature import CountVectorizer, IDF, Normalizer, PCA, RegexTokenizer, StandardScaler, StopWordsRemover, StringIndexer, VectorAssembler\n",
    "from pyspark.ml.regression import LinearRegression\n",
    "from pyspark.ml.classification import LogisticRegression, RandomForestClassifier, GBTClassifier\n",
    "from pyspark.ml.tuning import CrossValidator, ParamGridBuilder\n",
    "from pyspark.ml.feature import OneHotEncoder\n",
    "from pyspark.ml import Pipeline"
   ]
  },
  {
   "cell_type": "markdown",
   "metadata": {},
   "source": [
    "## split dataset"
   ]
  },
  {
   "cell_type": "code",
   "execution_count": null,
   "metadata": {
    "tags": []
   },
   "outputs": [],
   "source": [
    "# split train test valid 7:2:1\n",
    "#train, test = user_feature_df.randomSplit([0.7, 0.3], seed=42)\n",
    "\n",
    "count = user_feature_df.count()\n",
    "test_count = int(count * 0.7)\n",
    "\n",
    "train = user_feature_df.iloc[:test_count]\n",
    "test = user_feature_df.iloc[test_count:]\n",
    "\n",
    "print(f\"train {train.count()}, test {test.count()}\")"
   ]
  },
  {
   "cell_type": "markdown",
   "metadata": {},
   "source": [
    "## create pipeline"
   ]
  },
  {
   "cell_type": "code",
   "execution_count": null,
   "metadata": {
    "tags": []
   },
   "outputs": [],
   "source": [
    "# stringindexer and  onehotencoder\n",
    "gender_idxr = StringIndexer(inputCol='gender', outputCol='gender_idx')\n",
    "lavel_idxr = StringIndexer(inputCol='level', outputCol='lebel_idx')\n",
    "location_idxr = StringIndexer(inputCol='location_code', outputCol='location_idx')\n",
    "useragent_idxr = StringIndexer(inputCol='useragent_code', outputCol='useragent_idx')\n",
    "\n",
    "location_ohe = OneHotEncoder(inputCol=\"location_idx\", outputCol=\"location_code_vec\")\n",
    "useragent_ohe = OneHotEncoder(inputCol='useragent_idx', outputCol='useragent_code_vec')"
   ]
  },
  {
   "cell_type": "code",
   "execution_count": 55,
   "metadata": {
    "execution": {
     "iopub.execute_input": "2022-01-22T22:28:36.977689Z",
     "iopub.status.busy": "2022-01-22T22:28:36.977440Z",
     "iopub.status.idle": "2022-01-22T22:28:37.243644Z",
     "shell.execute_reply": "2022-01-22T22:28:37.242661Z",
     "shell.execute_reply.started": "2022-01-22T22:28:36.977652Z"
    },
    "tags": []
   },
   "outputs": [
    {
     "data": {
      "application/vnd.jupyter.widget-view+json": {
       "model_id": "04dfdf0339634e81950c18a27182218e",
       "version_major": 2,
       "version_minor": 0
      },
      "text/plain": [
       "VBox()"
      ]
     },
     "metadata": {},
     "output_type": "display_data"
    },
    {
     "data": {
      "application/vnd.jupyter.widget-view+json": {
       "model_id": "",
       "version_major": 2,
       "version_minor": 0
      },
      "text/plain": [
       "FloatProgress(value=0.0, bar_style='info', description='Progress:', layout=Layout(height='25px', width='50%'),…"
      ]
     },
     "metadata": {},
     "output_type": "display_data"
    },
    {
     "name": "stdout",
     "output_type": "stream",
     "text": [
      "['NextSong_count', 'first_ts', 'last_ts', 'user_days', 'freeuser_days', 'paiduser_days', 'session_avg', 'session_ts_avg', 'song_avg_per_session', 'downgrade', 'Thumbs Up_count', 'Home_count', 'Add to Playlist_count', 'Add Friend_count', 'Roll Advert_count', 'Thumbs Down_count', 'Downgrade_count', 'Help_count', 'Upgrade_count']"
     ]
    }
   ],
   "source": [
    "# combine vector\n",
    "input_cols = []\n",
    "\n",
    "for f in user_feature_df.schema.fields :\n",
    "    if f.dataType!=StringType():\n",
    "        input_cols.append(f.name)\n",
    "\n",
    "input_cols.remove('churn')\n",
    "\n",
    "print(input_cols)\n",
    "\n",
    "assembler = VectorAssembler(inputCols=input_cols, outputCol='features')"
   ]
  },
  {
   "cell_type": "code",
   "execution_count": 56,
   "metadata": {
    "execution": {
     "iopub.execute_input": "2022-01-22T22:28:37.245891Z",
     "iopub.status.busy": "2022-01-22T22:28:37.245271Z",
     "iopub.status.idle": "2022-01-22T22:28:37.553132Z",
     "shell.execute_reply": "2022-01-22T22:28:37.552422Z",
     "shell.execute_reply.started": "2022-01-22T22:28:37.245849Z"
    },
    "tags": []
   },
   "outputs": [
    {
     "data": {
      "application/vnd.jupyter.widget-view+json": {
       "model_id": "a7e0a58371aa4432aeb1bddde71893aa",
       "version_major": 2,
       "version_minor": 0
      },
      "text/plain": [
       "VBox()"
      ]
     },
     "metadata": {},
     "output_type": "display_data"
    },
    {
     "data": {
      "application/vnd.jupyter.widget-view+json": {
       "model_id": "",
       "version_major": 2,
       "version_minor": 0
      },
      "text/plain": [
       "FloatProgress(value=0.0, bar_style='info', description='Progress:', layout=Layout(height='25px', width='50%'),…"
      ]
     },
     "metadata": {},
     "output_type": "display_data"
    }
   ],
   "source": [
    "# normalize \n",
    "normalizer = Normalizer(inputCol=\"features\", outputCol=\"normalized_features\")"
   ]
  },
  {
   "cell_type": "code",
   "execution_count": 57,
   "metadata": {
    "execution": {
     "iopub.execute_input": "2022-01-22T22:28:37.557180Z",
     "iopub.status.busy": "2022-01-22T22:28:37.556965Z",
     "iopub.status.idle": "2022-01-22T22:28:37.842246Z",
     "shell.execute_reply": "2022-01-22T22:28:37.841496Z",
     "shell.execute_reply.started": "2022-01-22T22:28:37.557152Z"
    },
    "tags": []
   },
   "outputs": [
    {
     "data": {
      "application/vnd.jupyter.widget-view+json": {
       "model_id": "1e4c770f77874bcaafb984c27f0252c9",
       "version_major": 2,
       "version_minor": 0
      },
      "text/plain": [
       "VBox()"
      ]
     },
     "metadata": {},
     "output_type": "display_data"
    },
    {
     "data": {
      "application/vnd.jupyter.widget-view+json": {
       "model_id": "",
       "version_major": 2,
       "version_minor": 0
      },
      "text/plain": [
       "FloatProgress(value=0.0, bar_style='info', description='Progress:', layout=Layout(height='25px', width='50%'),…"
      ]
     },
     "metadata": {},
     "output_type": "display_data"
    }
   ],
   "source": [
    "def evaluate(pred):\n",
    "    \"\"\"\n",
    "    Use Eveluator to check the score\n",
    "    :param pred: DparkDataFrame \n",
    "    \"\"\"\n",
    "    evaluator = MulticlassClassificationEvaluator(labelCol=\"churn\", predictionCol=\"prediction\", metricName=\"f1\")\n",
    "    f1_score = evaluator.evaluate(pred)\n",
    "    \n",
    "    accuracy = pred.filter(pred.churn == pred.prediction).count() / pred.count()\n",
    "    \n",
    "    print(f'f1 score: {f1_score}, accuracy: {accuracy}')    "
   ]
  },
  {
   "cell_type": "markdown",
   "metadata": {},
   "source": [
    "## Logistic Regression Model"
   ]
  },
  {
   "cell_type": "code",
   "execution_count": null,
   "metadata": {
    "execution": {
     "iopub.execute_input": "2022-01-22T22:28:37.844061Z",
     "iopub.status.busy": "2022-01-22T22:28:37.843534Z"
    },
    "tags": []
   },
   "outputs": [
    {
     "data": {
      "application/vnd.jupyter.widget-view+json": {
       "model_id": "7fe6d03f92294612b930b2a7ddb99b91",
       "version_major": 2,
       "version_minor": 0
      },
      "text/plain": [
       "VBox()"
      ]
     },
     "metadata": {},
     "output_type": "display_data"
    },
    {
     "data": {
      "application/vnd.jupyter.widget-view+json": {
       "model_id": "ff9670ddb84f4bae9c6288d24edea059",
       "version_major": 2,
       "version_minor": 0
      },
      "text/plain": [
       "FloatProgress(value=0.0, bar_style='info', description='Progress:', layout=Layout(height='25px', width='50%'),…"
      ]
     },
     "metadata": {},
     "output_type": "display_data"
    }
   ],
   "source": [
    "# create logistic regression model\n",
    "lr = LogisticRegression(labelCol=\"churn\", featuresCol=\"normalized_features\")\n",
    "\n",
    "#pipeline\n",
    "lr_pipeline = Pipeline(stages=[\n",
    "    gender_idxr,\n",
    "    lavel_idxr,\n",
    "    location_idxr,\n",
    "    useragent_idxr,\n",
    "    location_ohe,\n",
    "    useragent_ohe,\n",
    "    assembler,\n",
    "    normalizer,\n",
    "    lr\n",
    "])\n",
    "\n",
    "#train model\n",
    "lr_model = lr_pipeline.fit(train)"
   ]
  },
  {
   "cell_type": "code",
   "execution_count": null,
   "metadata": {
    "tags": []
   },
   "outputs": [],
   "source": [
    "# predict\n",
    "lr_pred = lr_model.transform(test)"
   ]
  },
  {
   "cell_type": "code",
   "execution_count": null,
   "metadata": {
    "tags": []
   },
   "outputs": [],
   "source": [
    "#evaluate  lr model\n",
    "evaluate(lr_pred)"
   ]
  },
  {
   "cell_type": "code",
   "execution_count": null,
   "metadata": {
    "tags": []
   },
   "outputs": [],
   "source": [
    "# plot matrix \n",
    "lr_model_cm = lr_model.stages[8].coefficientMatrix\n",
    "\n",
    "lr_importances = pd.Series(lr_model_cm.values, index=input_cols)\n",
    "fig, ax = plt.subplots()\n",
    "lr_importances.plot.bar(ax=ax)\n",
    "ax.set_title(\"Coefficient Matrix\")\n",
    "ax.set_ylabel(\"Mean decrease in impurity\")\n",
    "fig.tight_layout()\n",
    "%matplot plt"
   ]
  },
  {
   "cell_type": "markdown",
   "metadata": {},
   "source": [
    "## Random Forest Model"
   ]
  },
  {
   "cell_type": "code",
   "execution_count": null,
   "metadata": {
    "tags": []
   },
   "outputs": [],
   "source": [
    "rf = RandomForestClassifier(labelCol=\"churn\", featuresCol=\"normalized_features\")\n",
    "\n",
    "#pipeline\n",
    "rf_pipeline = Pipeline(stages=[\n",
    "    gender_idxr,\n",
    "    lavel_idxr,\n",
    "    location_idxr,\n",
    "    useragent_idxr,\n",
    "    location_ohe,\n",
    "    useragent_ohe,\n",
    "    assembler,\n",
    "    normalizer,\n",
    "    rf\n",
    "])\n",
    "\n",
    "#train \n",
    "rf_mode = rf_pipeline.fit(train)"
   ]
  },
  {
   "cell_type": "code",
   "execution_count": null,
   "metadata": {
    "tags": []
   },
   "outputs": [],
   "source": [
    "# predict\n",
    "rf_pred = rf_mode.transform(test)"
   ]
  },
  {
   "cell_type": "code",
   "execution_count": null,
   "metadata": {
    "tags": []
   },
   "outputs": [],
   "source": [
    "#evaluate  \n",
    "evaluate(rf_pred)"
   ]
  },
  {
   "cell_type": "code",
   "execution_count": null,
   "metadata": {
    "tags": []
   },
   "outputs": [],
   "source": [
    "#plot matrix\n",
    "rf_model_fi = rf_model.stages[8].featureImportances\n",
    "\n",
    "forest_importances = pd.Series(rf_model_fi, index=input_cols)\n",
    "\n",
    "fig, ax = plt.subplots()\n",
    "forest_importances.plot.bar(ax=ax)\n",
    "ax.set_title(\"Feature importances using MDI\")\n",
    "ax.set_ylabel(\"Mean decrease in impurity\")\n",
    "fig.tight_layout()\n",
    "%matplot plt"
   ]
  },
  {
   "cell_type": "markdown",
   "metadata": {},
   "source": [
    "## Gradient-Boosted Trees (GBTs)"
   ]
  },
  {
   "cell_type": "code",
   "execution_count": null,
   "metadata": {
    "tags": []
   },
   "outputs": [],
   "source": [
    "gbt = GBTClassifier(labelCol=\"churn\", featuresCol=\"normalized_features\")\n",
    "\n",
    "# build pipeline\n",
    "gbt_pipeline = Pipeline(stages=[\n",
    "    gender_idxr,\n",
    "    lavel_idxr,\n",
    "    location_idxr,\n",
    "    useragent_idxr,\n",
    "    location_ohe,\n",
    "    useragent_ohe,\n",
    "    assembler,\n",
    "    normalizer,\n",
    "    gbt\n",
    "])\n",
    "\n",
    "\n",
    "# train \n",
    "gbt_model = gbt_pipeline.fit(train)\n"
   ]
  },
  {
   "cell_type": "code",
   "execution_count": null,
   "metadata": {
    "tags": []
   },
   "outputs": [],
   "source": [
    "# predict\n",
    "gbt_pred = gbt_model_mode.transform(test)"
   ]
  },
  {
   "cell_type": "code",
   "execution_count": null,
   "metadata": {
    "tags": []
   },
   "outputs": [],
   "source": [
    "#evaluate  \n",
    "evaluate(gbt_pred)"
   ]
  },
  {
   "cell_type": "code",
   "execution_count": null,
   "metadata": {
    "tags": []
   },
   "outputs": [],
   "source": [
    "#plot matrix\n",
    "gbt_model_fi = gbt_model.stages[8].featureImportances\n",
    "\n",
    "gbt_importances = pd.Series(gbt_model_fi, index=input_cols)\n",
    "fig, ax = plt.subplots()\n",
    "gbt_importances.plot.bar(ax=ax)\n",
    "ax.set_title(\"Feature importances using MDI\")\n",
    "ax.set_ylabel(\"Mean decrease in impurity\")\n",
    "fig.tight_layout()\n",
    "%matplot plt"
   ]
  },
  {
   "cell_type": "markdown",
   "metadata": {},
   "source": [
    "## Tuning"
   ]
  },
  {
   "cell_type": "code",
   "execution_count": null,
   "metadata": {
    "tags": []
   },
   "outputs": [],
   "source": [
    "paramGrid = ParamGridBuilder() \\\n",
    "    .addGrid(rf.numTrees, [50, 100]) \\\n",
    "    .addGrid(rf.maxDepth, [10, 20]) \\\n",
    "    .build()\n",
    "\n",
    "crossval = CrossValidator(estimator=rf_pipeline,\n",
    "                  estimatorParamMaps=paramGrid,\n",
    "                  evaluator=MulticlassClassificationEvaluator(labelCol=\"churn\", predictionCol=\"prediction\", metricName=\"f1\"),\n",
    "                  numFolds=3)\n",
    "\n",
    "cv_model = crossval.fit(train)"
   ]
  },
  {
   "cell_type": "code",
   "execution_count": null,
   "metadata": {
    "tags": []
   },
   "outputs": [],
   "source": [
    "#predict\n",
    "cv_preds = cv_model.transform(test)"
   ]
  },
  {
   "cell_type": "code",
   "execution_count": null,
   "metadata": {
    "tags": []
   },
   "outputs": [],
   "source": [
    "#evaluate  \n",
    "evaluate(cv_pred)"
   ]
  },
  {
   "cell_type": "code",
   "execution_count": null,
   "metadata": {
    "tags": []
   },
   "outputs": [],
   "source": [
    "#best model\n",
    "best_pipeline = cv_model.bestModel\n",
    "best_model = best_pipeline.stages[2]\n",
    "best_model.extractParamMap()"
   ]
  },
  {
   "cell_type": "markdown",
   "metadata": {},
   "source": [
    "# Final Steps\n",
    "Clean up your code, adding comments and renaming variables to make the code easier to read and maintain. Refer to the Spark Project Overview page and Data Scientist Capstone Project Rubric to make sure you are including all components of the capstone project and meet all expectations. Remember, this includes thorough documentation in a README file in a Github repository, as well as a web app or blog post."
   ]
  },
  {
   "cell_type": "code",
   "execution_count": null,
   "metadata": {},
   "outputs": [],
   "source": []
  },
  {
   "cell_type": "code",
   "execution_count": null,
   "metadata": {},
   "outputs": [],
   "source": []
  },
  {
   "cell_type": "code",
   "execution_count": null,
   "metadata": {},
   "outputs": [],
   "source": []
  }
 ],
 "metadata": {
  "kernelspec": {
   "display_name": "PySpark",
   "language": "",
   "name": "pysparkkernel"
  },
  "language_info": {
   "codemirror_mode": {
    "name": "python",
    "version": 2
   },
   "mimetype": "text/x-python",
   "name": "pyspark",
   "pygments_lexer": "python2"
  }
 },
 "nbformat": 4,
 "nbformat_minor": 4
}
